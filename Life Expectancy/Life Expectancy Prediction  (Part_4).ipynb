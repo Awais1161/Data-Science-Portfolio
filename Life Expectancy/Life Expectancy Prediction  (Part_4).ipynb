{
 "cells": [
  {
   "cell_type": "markdown",
   "id": "5c5b24fe",
   "metadata": {},
   "source": [
    "# Modeling (Life Expectancy ; WHO)"
   ]
  },
  {
   "cell_type": "code",
   "execution_count": 192,
   "id": "bd1538f6",
   "metadata": {},
   "outputs": [],
   "source": [
    "import pandas as pd\n",
    "from pprint import pprint\n",
    "\n",
    "from sklearn.model_selection import train_test_split, KFold\n",
    "\n",
    "from sklearn.linear_model import LinearRegression\n",
    "from sklearn.tree import DecisionTreeRegressor\n",
    "from sklearn.svm import SVR\n",
    "from sklearn.neighbors import KNeighborsRegressor\n",
    "from sklearn.ensemble import RandomForestRegressor\n",
    "from sklearn.metrics import r2_score, mean_squared_error, mean_absolute_error\n",
    "from sklearn.model_selection import cross_validate \n",
    "\n",
    "import math\n",
    "import statistics\n",
    "\n",
    "import warnings\n",
    "warnings.filterwarnings('ignore')"
   ]
  },
  {
   "cell_type": "markdown",
   "id": "31bee083",
   "metadata": {},
   "source": [
    "### Data"
   ]
  },
  {
   "cell_type": "code",
   "execution_count": 134,
   "id": "08c47478",
   "metadata": {},
   "outputs": [
    {
     "data": {
      "text/html": [
       "<div>\n",
       "<style scoped>\n",
       "    .dataframe tbody tr th:only-of-type {\n",
       "        vertical-align: middle;\n",
       "    }\n",
       "\n",
       "    .dataframe tbody tr th {\n",
       "        vertical-align: top;\n",
       "    }\n",
       "\n",
       "    .dataframe thead th {\n",
       "        text-align: right;\n",
       "    }\n",
       "</style>\n",
       "<table border=\"1\" class=\"dataframe\">\n",
       "  <thead>\n",
       "    <tr style=\"text-align: right;\">\n",
       "      <th></th>\n",
       "      <th>Life expectancy</th>\n",
       "      <th>Adult Mortality</th>\n",
       "      <th>infant deaths</th>\n",
       "      <th>Alcohol</th>\n",
       "      <th>percentage expenditure</th>\n",
       "      <th>Hepatitis B</th>\n",
       "      <th>Measles</th>\n",
       "      <th>BMI</th>\n",
       "      <th>under-five deaths</th>\n",
       "      <th>Polio</th>\n",
       "      <th>...</th>\n",
       "      <th>Country_Uruguay</th>\n",
       "      <th>Country_Uzbekistan</th>\n",
       "      <th>Country_Vanuatu</th>\n",
       "      <th>Country_Venezuela (Bolivarian Republic of)</th>\n",
       "      <th>Country_Viet Nam</th>\n",
       "      <th>Country_Yemen</th>\n",
       "      <th>Country_Zambia</th>\n",
       "      <th>Country_Zimbabwe</th>\n",
       "      <th>Status_Developed</th>\n",
       "      <th>Status_Developing</th>\n",
       "    </tr>\n",
       "  </thead>\n",
       "  <tbody>\n",
       "    <tr>\n",
       "      <th>0</th>\n",
       "      <td>65.0</td>\n",
       "      <td>263.0</td>\n",
       "      <td>55.0</td>\n",
       "      <td>0.01</td>\n",
       "      <td>71.279624</td>\n",
       "      <td>65.0</td>\n",
       "      <td>900.625</td>\n",
       "      <td>19.1</td>\n",
       "      <td>70.0</td>\n",
       "      <td>6.0</td>\n",
       "      <td>...</td>\n",
       "      <td>0</td>\n",
       "      <td>0</td>\n",
       "      <td>0</td>\n",
       "      <td>0</td>\n",
       "      <td>0</td>\n",
       "      <td>0</td>\n",
       "      <td>0</td>\n",
       "      <td>0</td>\n",
       "      <td>0</td>\n",
       "      <td>1</td>\n",
       "    </tr>\n",
       "    <tr>\n",
       "      <th>1</th>\n",
       "      <td>59.9</td>\n",
       "      <td>271.0</td>\n",
       "      <td>55.0</td>\n",
       "      <td>0.01</td>\n",
       "      <td>73.523582</td>\n",
       "      <td>62.0</td>\n",
       "      <td>492.000</td>\n",
       "      <td>18.6</td>\n",
       "      <td>70.0</td>\n",
       "      <td>58.0</td>\n",
       "      <td>...</td>\n",
       "      <td>0</td>\n",
       "      <td>0</td>\n",
       "      <td>0</td>\n",
       "      <td>0</td>\n",
       "      <td>0</td>\n",
       "      <td>0</td>\n",
       "      <td>0</td>\n",
       "      <td>0</td>\n",
       "      <td>0</td>\n",
       "      <td>1</td>\n",
       "    </tr>\n",
       "    <tr>\n",
       "      <th>2</th>\n",
       "      <td>59.9</td>\n",
       "      <td>268.0</td>\n",
       "      <td>55.0</td>\n",
       "      <td>0.01</td>\n",
       "      <td>73.219243</td>\n",
       "      <td>64.0</td>\n",
       "      <td>430.000</td>\n",
       "      <td>18.1</td>\n",
       "      <td>70.0</td>\n",
       "      <td>62.0</td>\n",
       "      <td>...</td>\n",
       "      <td>0</td>\n",
       "      <td>0</td>\n",
       "      <td>0</td>\n",
       "      <td>0</td>\n",
       "      <td>0</td>\n",
       "      <td>0</td>\n",
       "      <td>0</td>\n",
       "      <td>0</td>\n",
       "      <td>0</td>\n",
       "      <td>1</td>\n",
       "    </tr>\n",
       "    <tr>\n",
       "      <th>3</th>\n",
       "      <td>59.5</td>\n",
       "      <td>272.0</td>\n",
       "      <td>55.0</td>\n",
       "      <td>0.01</td>\n",
       "      <td>78.184215</td>\n",
       "      <td>67.0</td>\n",
       "      <td>900.625</td>\n",
       "      <td>17.6</td>\n",
       "      <td>70.0</td>\n",
       "      <td>67.0</td>\n",
       "      <td>...</td>\n",
       "      <td>0</td>\n",
       "      <td>0</td>\n",
       "      <td>0</td>\n",
       "      <td>0</td>\n",
       "      <td>0</td>\n",
       "      <td>0</td>\n",
       "      <td>0</td>\n",
       "      <td>0</td>\n",
       "      <td>0</td>\n",
       "      <td>1</td>\n",
       "    </tr>\n",
       "    <tr>\n",
       "      <th>4</th>\n",
       "      <td>59.2</td>\n",
       "      <td>275.0</td>\n",
       "      <td>55.0</td>\n",
       "      <td>0.01</td>\n",
       "      <td>7.097109</td>\n",
       "      <td>68.0</td>\n",
       "      <td>900.625</td>\n",
       "      <td>17.2</td>\n",
       "      <td>70.0</td>\n",
       "      <td>68.0</td>\n",
       "      <td>...</td>\n",
       "      <td>0</td>\n",
       "      <td>0</td>\n",
       "      <td>0</td>\n",
       "      <td>0</td>\n",
       "      <td>0</td>\n",
       "      <td>0</td>\n",
       "      <td>0</td>\n",
       "      <td>0</td>\n",
       "      <td>0</td>\n",
       "      <td>1</td>\n",
       "    </tr>\n",
       "    <tr>\n",
       "      <th>...</th>\n",
       "      <td>...</td>\n",
       "      <td>...</td>\n",
       "      <td>...</td>\n",
       "      <td>...</td>\n",
       "      <td>...</td>\n",
       "      <td>...</td>\n",
       "      <td>...</td>\n",
       "      <td>...</td>\n",
       "      <td>...</td>\n",
       "      <td>...</td>\n",
       "      <td>...</td>\n",
       "      <td>...</td>\n",
       "      <td>...</td>\n",
       "      <td>...</td>\n",
       "      <td>...</td>\n",
       "      <td>...</td>\n",
       "      <td>...</td>\n",
       "      <td>...</td>\n",
       "      <td>...</td>\n",
       "      <td>...</td>\n",
       "      <td>...</td>\n",
       "    </tr>\n",
       "    <tr>\n",
       "      <th>2933</th>\n",
       "      <td>44.3</td>\n",
       "      <td>723.0</td>\n",
       "      <td>27.0</td>\n",
       "      <td>4.36</td>\n",
       "      <td>0.000000</td>\n",
       "      <td>68.0</td>\n",
       "      <td>31.000</td>\n",
       "      <td>27.1</td>\n",
       "      <td>42.0</td>\n",
       "      <td>67.0</td>\n",
       "      <td>...</td>\n",
       "      <td>0</td>\n",
       "      <td>0</td>\n",
       "      <td>0</td>\n",
       "      <td>0</td>\n",
       "      <td>0</td>\n",
       "      <td>0</td>\n",
       "      <td>0</td>\n",
       "      <td>1</td>\n",
       "      <td>0</td>\n",
       "      <td>1</td>\n",
       "    </tr>\n",
       "    <tr>\n",
       "      <th>2934</th>\n",
       "      <td>44.5</td>\n",
       "      <td>715.0</td>\n",
       "      <td>26.0</td>\n",
       "      <td>4.06</td>\n",
       "      <td>0.000000</td>\n",
       "      <td>7.0</td>\n",
       "      <td>900.625</td>\n",
       "      <td>26.7</td>\n",
       "      <td>41.0</td>\n",
       "      <td>7.0</td>\n",
       "      <td>...</td>\n",
       "      <td>0</td>\n",
       "      <td>0</td>\n",
       "      <td>0</td>\n",
       "      <td>0</td>\n",
       "      <td>0</td>\n",
       "      <td>0</td>\n",
       "      <td>0</td>\n",
       "      <td>1</td>\n",
       "      <td>0</td>\n",
       "      <td>1</td>\n",
       "    </tr>\n",
       "    <tr>\n",
       "      <th>2935</th>\n",
       "      <td>44.8</td>\n",
       "      <td>73.0</td>\n",
       "      <td>25.0</td>\n",
       "      <td>4.43</td>\n",
       "      <td>0.000000</td>\n",
       "      <td>73.0</td>\n",
       "      <td>304.000</td>\n",
       "      <td>26.3</td>\n",
       "      <td>40.0</td>\n",
       "      <td>73.0</td>\n",
       "      <td>...</td>\n",
       "      <td>0</td>\n",
       "      <td>0</td>\n",
       "      <td>0</td>\n",
       "      <td>0</td>\n",
       "      <td>0</td>\n",
       "      <td>0</td>\n",
       "      <td>0</td>\n",
       "      <td>1</td>\n",
       "      <td>0</td>\n",
       "      <td>1</td>\n",
       "    </tr>\n",
       "    <tr>\n",
       "      <th>2936</th>\n",
       "      <td>45.3</td>\n",
       "      <td>686.0</td>\n",
       "      <td>25.0</td>\n",
       "      <td>1.72</td>\n",
       "      <td>0.000000</td>\n",
       "      <td>76.0</td>\n",
       "      <td>529.000</td>\n",
       "      <td>25.9</td>\n",
       "      <td>39.0</td>\n",
       "      <td>76.0</td>\n",
       "      <td>...</td>\n",
       "      <td>0</td>\n",
       "      <td>0</td>\n",
       "      <td>0</td>\n",
       "      <td>0</td>\n",
       "      <td>0</td>\n",
       "      <td>0</td>\n",
       "      <td>0</td>\n",
       "      <td>1</td>\n",
       "      <td>0</td>\n",
       "      <td>1</td>\n",
       "    </tr>\n",
       "    <tr>\n",
       "      <th>2937</th>\n",
       "      <td>46.0</td>\n",
       "      <td>665.0</td>\n",
       "      <td>24.0</td>\n",
       "      <td>1.68</td>\n",
       "      <td>0.000000</td>\n",
       "      <td>79.0</td>\n",
       "      <td>900.625</td>\n",
       "      <td>25.5</td>\n",
       "      <td>39.0</td>\n",
       "      <td>78.0</td>\n",
       "      <td>...</td>\n",
       "      <td>0</td>\n",
       "      <td>0</td>\n",
       "      <td>0</td>\n",
       "      <td>0</td>\n",
       "      <td>0</td>\n",
       "      <td>0</td>\n",
       "      <td>0</td>\n",
       "      <td>1</td>\n",
       "      <td>0</td>\n",
       "      <td>1</td>\n",
       "    </tr>\n",
       "  </tbody>\n",
       "</table>\n",
       "<p>2938 rows × 214 columns</p>\n",
       "</div>"
      ],
      "text/plain": [
       "      Life expectancy  Adult Mortality  infant deaths  Alcohol  \\\n",
       "0                65.0            263.0           55.0     0.01   \n",
       "1                59.9            271.0           55.0     0.01   \n",
       "2                59.9            268.0           55.0     0.01   \n",
       "3                59.5            272.0           55.0     0.01   \n",
       "4                59.2            275.0           55.0     0.01   \n",
       "...               ...              ...            ...      ...   \n",
       "2933             44.3            723.0           27.0     4.36   \n",
       "2934             44.5            715.0           26.0     4.06   \n",
       "2935             44.8             73.0           25.0     4.43   \n",
       "2936             45.3            686.0           25.0     1.72   \n",
       "2937             46.0            665.0           24.0     1.68   \n",
       "\n",
       "      percentage expenditure  Hepatitis B  Measles   BMI  under-five deaths  \\\n",
       "0                  71.279624         65.0  900.625  19.1               70.0   \n",
       "1                  73.523582         62.0  492.000  18.6               70.0   \n",
       "2                  73.219243         64.0  430.000  18.1               70.0   \n",
       "3                  78.184215         67.0  900.625  17.6               70.0   \n",
       "4                   7.097109         68.0  900.625  17.2               70.0   \n",
       "...                      ...          ...      ...   ...                ...   \n",
       "2933                0.000000         68.0   31.000  27.1               42.0   \n",
       "2934                0.000000          7.0  900.625  26.7               41.0   \n",
       "2935                0.000000         73.0  304.000  26.3               40.0   \n",
       "2936                0.000000         76.0  529.000  25.9               39.0   \n",
       "2937                0.000000         79.0  900.625  25.5               39.0   \n",
       "\n",
       "      Polio  ...  Country_Uruguay  Country_Uzbekistan  Country_Vanuatu  \\\n",
       "0       6.0  ...                0                   0                0   \n",
       "1      58.0  ...                0                   0                0   \n",
       "2      62.0  ...                0                   0                0   \n",
       "3      67.0  ...                0                   0                0   \n",
       "4      68.0  ...                0                   0                0   \n",
       "...     ...  ...              ...                 ...              ...   \n",
       "2933   67.0  ...                0                   0                0   \n",
       "2934    7.0  ...                0                   0                0   \n",
       "2935   73.0  ...                0                   0                0   \n",
       "2936   76.0  ...                0                   0                0   \n",
       "2937   78.0  ...                0                   0                0   \n",
       "\n",
       "      Country_Venezuela (Bolivarian Republic of)  Country_Viet Nam  \\\n",
       "0                                              0                 0   \n",
       "1                                              0                 0   \n",
       "2                                              0                 0   \n",
       "3                                              0                 0   \n",
       "4                                              0                 0   \n",
       "...                                          ...               ...   \n",
       "2933                                           0                 0   \n",
       "2934                                           0                 0   \n",
       "2935                                           0                 0   \n",
       "2936                                           0                 0   \n",
       "2937                                           0                 0   \n",
       "\n",
       "      Country_Yemen  Country_Zambia  Country_Zimbabwe  Status_Developed  \\\n",
       "0                 0               0                 0                 0   \n",
       "1                 0               0                 0                 0   \n",
       "2                 0               0                 0                 0   \n",
       "3                 0               0                 0                 0   \n",
       "4                 0               0                 0                 0   \n",
       "...             ...             ...               ...               ...   \n",
       "2933              0               0                 1                 0   \n",
       "2934              0               0                 1                 0   \n",
       "2935              0               0                 1                 0   \n",
       "2936              0               0                 1                 0   \n",
       "2937              0               0                 1                 0   \n",
       "\n",
       "      Status_Developing  \n",
       "0                     1  \n",
       "1                     1  \n",
       "2                     1  \n",
       "3                     1  \n",
       "4                     1  \n",
       "...                 ...  \n",
       "2933                  1  \n",
       "2934                  1  \n",
       "2935                  1  \n",
       "2936                  1  \n",
       "2937                  1  \n",
       "\n",
       "[2938 rows x 214 columns]"
      ]
     },
     "execution_count": 134,
     "metadata": {},
     "output_type": "execute_result"
    }
   ],
   "source": [
    "data=pd.read_csv('Converted_life_Data',index_col=[0])\n",
    "data"
   ]
  },
  {
   "cell_type": "markdown",
   "id": "20c90840",
   "metadata": {},
   "source": [
    "# Model Performance"
   ]
  },
  {
   "cell_type": "code",
   "execution_count": 135,
   "id": "fe44c8b2",
   "metadata": {},
   "outputs": [],
   "source": [
    "def scores (y_true,y_pred):\n",
    "    results=[r2_score(y_true,y_pred),mean_squared_error(y_true,y_pred), math.sqrt(mean_squared_error(y_true,y_pred))]\n",
    "    return[round (x,2) for x in results]"
   ]
  },
  {
   "cell_type": "markdown",
   "id": "36599131",
   "metadata": {},
   "source": [
    "# Models"
   ]
  },
  {
   "cell_type": "code",
   "execution_count": 136,
   "id": "62b9fa21",
   "metadata": {},
   "outputs": [],
   "source": [
    "def create_models (X_train,X_test,y_train,y_test):\n",
    "    print('Linear Regression Model:')\n",
    "    model=LinearRegression()\n",
    "    model.fit(X_train,y_train)\n",
    "    y_pred=model.predict(X_test)\n",
    "    results=scores(y_test,y_pred)\n",
    "    print(f'R2:{results[0]}, MSE:{results[1]}, RMSE:{results[2]}')\n",
    "    print('\\n')\n",
    "    \n",
    "    print('Decision Tree Model:')\n",
    "    model=DecisionTreeRegressor()\n",
    "    model.fit(X_train,y_train)\n",
    "    y_pred=model.predict(X_test)\n",
    "    results=scores(y_test,y_pred)\n",
    "    print(f'R2:{results[0]}, MSE:{results[1]}, RMSE:{results[2]}')\n",
    "    print('\\n')\n",
    "    \n",
    "    print('Random Forest Model:')\n",
    "    model=RandomForestRegressor()\n",
    "    model.fit(X_train,y_train)\n",
    "    y_pred=model.predict(X_test)\n",
    "    results=scores(y_test,y_pred)\n",
    "    print(f'R2:{results[0]}, MSE:{results[1]}, RMSE:{results[2]}')\n",
    "    print('\\n')\n",
    "    \n",
    "    print('SVM Model:')\n",
    "    model=SVR()\n",
    "    model.fit(X_train,y_train)\n",
    "    y_pred=model.predict(X_test)\n",
    "    results=scores(y_test,y_pred)\n",
    "    print(f'R2:{results[0]}, MSE:{results[1]}, RMSE:{results[2]}')\n",
    "    print('\\n')\n",
    "    \n",
    "    print('KNN Model:')\n",
    "    model=KNeighborsRegressor()\n",
    "    model.fit(X_train,y_train)\n",
    "    y_pred=model.predict(X_test)\n",
    "    results=scores(y_test,y_pred)\n",
    "    print(f'R2:{results[0]}, MSE:{results[1]}, RMSE:{results[2]}')"
   ]
  },
  {
   "cell_type": "markdown",
   "id": "78fbb730",
   "metadata": {},
   "source": [
    "### X and Y"
   ]
  },
  {
   "cell_type": "code",
   "execution_count": 150,
   "id": "91cc6d55",
   "metadata": {},
   "outputs": [],
   "source": [
    "X=data.drop(['Life expectancy'],axis=1).values\n",
    "y=data['Life expectancy'].values"
   ]
  },
  {
   "cell_type": "markdown",
   "id": "74520b46",
   "metadata": {},
   "source": [
    "### Train Test Split"
   ]
  },
  {
   "cell_type": "code",
   "execution_count": 151,
   "id": "85dac709",
   "metadata": {},
   "outputs": [],
   "source": [
    "X_train, X_test, y_train, y_test= train_test_split(X,y, test_size=0.3,random_state=42)"
   ]
  },
  {
   "cell_type": "code",
   "execution_count": 152,
   "id": "cac3041d",
   "metadata": {},
   "outputs": [
    {
     "name": "stdout",
     "output_type": "stream",
     "text": [
      "(2056, 213)\n",
      "(882, 213)\n",
      "(2056,)\n",
      "(882,)\n"
     ]
    }
   ],
   "source": [
    "print(X_train.shape)\n",
    "print(X_test.shape)\n",
    "print(y_train.shape)\n",
    "print(y_test.shape)"
   ]
  },
  {
   "cell_type": "markdown",
   "id": "09c2802b",
   "metadata": {},
   "source": [
    "# Data Scalling"
   ]
  },
  {
   "cell_type": "code",
   "execution_count": 153,
   "id": "8c320ff7",
   "metadata": {},
   "outputs": [
    {
     "data": {
      "application/javascript": [
       "\n",
       "        if (window._pyforest_update_imports_cell) { window._pyforest_update_imports_cell('import matplotlib.pyplot as plt\\nfrom sklearn.preprocessing import StandardScaler\\nimport pandas as pd\\nfrom sklearn.model_selection import train_test_split\\nfrom sklearn.linear_model import LinearRegression'); }\n",
       "    "
      ],
      "text/plain": [
       "<IPython.core.display.Javascript object>"
      ]
     },
     "metadata": {},
     "output_type": "display_data"
    }
   ],
   "source": [
    "scaler=StandardScaler()\n",
    "X_train = scaler.fit_transform(X_train)\n",
    "X_test = scaler.transform(X_test)"
   ]
  },
  {
   "cell_type": "code",
   "execution_count": 154,
   "id": "66197927",
   "metadata": {},
   "outputs": [
    {
     "name": "stdout",
     "output_type": "stream",
     "text": [
      "Linear Regression Model:\n",
      "R2:-6.453701091516978e+21, MSE:6.0360870652135286e+23, RMSE:776922587212.75\n",
      "\n",
      "\n",
      "Decision Tree Model:\n",
      "R2:0.93, MSE:6.13, RMSE:2.48\n",
      "\n",
      "\n",
      "Random Forest Model:\n",
      "R2:0.97, MSE:3.2, RMSE:1.79\n",
      "\n",
      "\n",
      "SVM Model:\n",
      "R2:0.89, MSE:10.59, RMSE:3.25\n",
      "\n",
      "\n",
      "KNN Model:\n",
      "R2:0.93, MSE:6.54, RMSE:2.56\n"
     ]
    }
   ],
   "source": [
    "create_models(X_train,X_test,y_train,y_test)"
   ]
  },
  {
   "cell_type": "markdown",
   "id": "9e54f2a2",
   "metadata": {},
   "source": [
    "# Cross Validation using K-Fold"
   ]
  },
  {
   "cell_type": "code",
   "execution_count": 155,
   "id": "ade45f2a",
   "metadata": {},
   "outputs": [],
   "source": [
    "kf=KFold(n_splits=5, shuffle=False)"
   ]
  },
  {
   "cell_type": "code",
   "execution_count": 156,
   "id": "98390f35",
   "metadata": {},
   "outputs": [
    {
     "name": "stdout",
     "output_type": "stream",
     "text": [
      "R2: 0.6869,\n",
      "MSE: 33.4182,\n",
      "RMSE: 5.7808,\n",
      "\n",
      "R2: 0.6095,\n",
      "MSE: 32.2097,\n",
      "RMSE: 5.6754,\n",
      "\n",
      "R2: 0.5169,\n",
      "MSE: 38.3097,\n",
      "RMSE: 6.1895,\n",
      "\n",
      "R2: 0.7047,\n",
      "MSE: 25.3128,\n",
      "RMSE: 5.0312,\n",
      "\n",
      "R2: 0.6347,\n",
      "MSE: 34.5224,\n",
      "RMSE: 5.8756,\n",
      "\n"
     ]
    }
   ],
   "source": [
    "n=[]\n",
    "for train, test in kf.split(X,y):\n",
    "    model=LinearRegression()\n",
    "    model.fit(X[train], y[train])\n",
    "    y_pred=model.predict(X[test])\n",
    "    results= [round(r2_score(y[test],y_pred),4), round(mean_squared_error(y[test],y_pred),4), \n",
    "              round(math.sqrt(mean_squared_error(y[test],y_pred)),4)]\n",
    "    n.append(results)\n",
    "    print('R2: {},\\nMSE: {},\\nRMSE: {},\\n'.format(results[0],results[1],results[2]))"
   ]
  },
  {
   "cell_type": "code",
   "execution_count": 157,
   "id": "24e65927",
   "metadata": {},
   "outputs": [
    {
     "name": "stdout",
     "output_type": "stream",
     "text": [
      "Model:LinearRegression\n",
      "Average Values:\n",
      "R2: 0.6305,\n",
      "MSE: 32.7546, \n",
      "RMSE: 5.7105\n"
     ]
    }
   ],
   "source": [
    "print('Model:LinearRegression')\n",
    "print('Average Values:')\n",
    "avg=statistics.mean([x[0] for x in n]),statistics.mean([x[1] for x in n]),statistics.mean([x[2] for x in n])\n",
    "print('R2: {:0.4f},\\nMSE: {:0.4f}, \\nRMSE: {:0.4f}'.format(avg[0],avg[1],avg[2]))"
   ]
  },
  {
   "cell_type": "code",
   "execution_count": 158,
   "id": "6e56eceb",
   "metadata": {},
   "outputs": [
    {
     "name": "stdout",
     "output_type": "stream",
     "text": [
      "R2: 0.8777,\n",
      "MSE: 13.0542,\n",
      "RMSE: 3.6131,\n",
      "\n",
      "R2: 0.7708,\n",
      "MSE: 18.9006,\n",
      "RMSE: 4.3475,\n",
      "\n",
      "R2: 0.828,\n",
      "MSE: 13.6393,\n",
      "RMSE: 3.6931,\n",
      "\n",
      "R2: 0.8671,\n",
      "MSE: 11.394,\n",
      "RMSE: 3.3755,\n",
      "\n",
      "R2: 0.8275,\n",
      "MSE: 16.3058,\n",
      "RMSE: 4.038,\n",
      "\n"
     ]
    }
   ],
   "source": [
    "n=[]\n",
    "for train, test in kf.split(X,y):\n",
    "    model=DecisionTreeRegressor()\n",
    "    model.fit(X[train], y[train])\n",
    "    y_pred=model.predict(X[test])\n",
    "    results= [round(r2_score(y[test],y_pred),4), round(mean_squared_error(y[test],y_pred),4), \n",
    "              round(math.sqrt(mean_squared_error(y[test],y_pred)),4)]\n",
    "    n.append(results)\n",
    "    print('R2: {},\\nMSE: {},\\nRMSE: {},\\n'.format(results[0],results[1],results[2]))"
   ]
  },
  {
   "cell_type": "code",
   "execution_count": 159,
   "id": "1579bd9b",
   "metadata": {},
   "outputs": [
    {
     "name": "stdout",
     "output_type": "stream",
     "text": [
      "Model:Decision Tree Model\n",
      "Average Values:\n",
      "R2: 0.8342,\n",
      "MSE: 14.6588, \n",
      "RMSE: 3.8134\n"
     ]
    }
   ],
   "source": [
    "print('Model:Decision Tree Model')\n",
    "print('Average Values:')\n",
    "avg=statistics.mean([x[0] for x in n]),statistics.mean([x[1] for x in n]),statistics.mean([x[2] for x in n])\n",
    "print('R2: {:0.4f},\\nMSE: {:0.4f}, \\nRMSE: {:0.4f}'.format(avg[0],avg[1],avg[2]))"
   ]
  },
  {
   "cell_type": "code",
   "execution_count": 160,
   "id": "e55bd499",
   "metadata": {},
   "outputs": [
    {
     "name": "stdout",
     "output_type": "stream",
     "text": [
      "R2: 0.9385,\n",
      "MSE: 6.5679,\n",
      "RMSE: 2.5628,\n",
      "\n",
      "R2: 0.8652,\n",
      "MSE: 11.1168,\n",
      "RMSE: 3.3342,\n",
      "\n",
      "R2: 0.9124,\n",
      "MSE: 6.9461,\n",
      "RMSE: 2.6356,\n",
      "\n",
      "R2: 0.9144,\n",
      "MSE: 7.3407,\n",
      "RMSE: 2.7094,\n",
      "\n",
      "R2: 0.9024,\n",
      "MSE: 9.2215,\n",
      "RMSE: 3.0367,\n",
      "\n"
     ]
    }
   ],
   "source": [
    "n=[]\n",
    "for train, test in kf.split(X,y):\n",
    "    model=RandomForestRegressor()\n",
    "    model.fit(X[train], y[train])\n",
    "    y_pred=model.predict(X[test])\n",
    "    results= [round(r2_score(y[test],y_pred),4), round(mean_squared_error(y[test],y_pred),4), \n",
    "              round(math.sqrt(mean_squared_error(y[test],y_pred)),4)]\n",
    "    n.append(results)\n",
    "    print('R2: {},\\nMSE: {},\\nRMSE: {},\\n'.format(results[0],results[1],results[2]))"
   ]
  },
  {
   "cell_type": "code",
   "execution_count": 161,
   "id": "5ad1f8ab",
   "metadata": {},
   "outputs": [
    {
     "name": "stdout",
     "output_type": "stream",
     "text": [
      "Model:Random Forest Model\n",
      "Average Values:\n",
      "R2: 0.9066,\n",
      "MSE: 8.2386, \n",
      "RMSE: 2.8557\n"
     ]
    }
   ],
   "source": [
    "print('Model:Random Forest Model')\n",
    "print('Average Values:')\n",
    "avg=statistics.mean([x[0] for x in n]),statistics.mean([x[1] for x in n]),statistics.mean([x[2] for x in n])\n",
    "print('R2: {:0.4f},\\nMSE: {:0.4f}, \\nRMSE: {:0.4f}'.format(avg[0],avg[1],avg[2]))"
   ]
  },
  {
   "cell_type": "code",
   "execution_count": 162,
   "id": "932d42e4",
   "metadata": {},
   "outputs": [
    {
     "name": "stdout",
     "output_type": "stream",
     "text": [
      "R2: -0.1259,\n",
      "MSE: 120.183,\n",
      "RMSE: 10.9628,\n",
      "\n",
      "R2: -0.113,\n",
      "MSE: 91.7943,\n",
      "RMSE: 9.5809,\n",
      "\n",
      "R2: 0.0047,\n",
      "MSE: 78.921,\n",
      "RMSE: 8.8837,\n",
      "\n",
      "R2: -0.0151,\n",
      "MSE: 87.0118,\n",
      "RMSE: 9.328,\n",
      "\n",
      "R2: -0.1923,\n",
      "MSE: 112.6839,\n",
      "RMSE: 10.6153,\n",
      "\n"
     ]
    }
   ],
   "source": [
    "n=[]\n",
    "for train, test in kf.split(X,y):\n",
    "    model=SVR()\n",
    "    model.fit(X[train], y[train])\n",
    "    y_pred=model.predict(X[test])\n",
    "    results= [round(r2_score(y[test],y_pred),4), round(mean_squared_error(y[test],y_pred),4), \n",
    "              round(math.sqrt(mean_squared_error(y[test],y_pred)),4)]\n",
    "    n.append(results)\n",
    "    print('R2: {},\\nMSE: {},\\nRMSE: {},\\n'.format(results[0],results[1],results[2]))"
   ]
  },
  {
   "cell_type": "code",
   "execution_count": 163,
   "id": "f166b8f6",
   "metadata": {},
   "outputs": [
    {
     "name": "stdout",
     "output_type": "stream",
     "text": [
      "Model:SVM\n",
      "Average Values:\n",
      "R2: -0.0883,\n",
      "MSE: 98.1188, \n",
      "RMSE: 9.8741\n"
     ]
    }
   ],
   "source": [
    "print('Model:SVM')\n",
    "print('Average Values:')\n",
    "avg=statistics.mean([x[0] for x in n]),statistics.mean([x[1] for x in n]),statistics.mean([x[2] for x in n])\n",
    "print('R2: {:0.4f},\\nMSE: {:0.4f}, \\nRMSE: {:0.4f}'.format(avg[0],avg[1],avg[2]))"
   ]
  },
  {
   "cell_type": "code",
   "execution_count": 164,
   "id": "2f273774",
   "metadata": {},
   "outputs": [
    {
     "name": "stdout",
     "output_type": "stream",
     "text": [
      "R2: 0.1338,\n",
      "MSE: 92.469,\n",
      "RMSE: 9.6161,\n",
      "\n",
      "R2: -0.1518,\n",
      "MSE: 94.9903,\n",
      "RMSE: 9.7463,\n",
      "\n",
      "R2: -0.0338,\n",
      "MSE: 81.9735,\n",
      "RMSE: 9.0539,\n",
      "\n",
      "R2: 0.0232,\n",
      "MSE: 83.7259,\n",
      "RMSE: 9.1502,\n",
      "\n",
      "R2: 0.0474,\n",
      "MSE: 90.0304,\n",
      "RMSE: 9.4884,\n",
      "\n"
     ]
    }
   ],
   "source": [
    "n=[]\n",
    "for train, test in kf.split(X,y):\n",
    "    model=KNeighborsRegressor()\n",
    "    model.fit(X[train], y[train])\n",
    "    y_pred=model.predict(X[test])\n",
    "    results= [round(r2_score(y[test],y_pred),4), round(mean_squared_error(y[test],y_pred),4), \n",
    "              round(math.sqrt(mean_squared_error(y[test],y_pred)),4)]\n",
    "    n.append(results)\n",
    "    print('R2: {},\\nMSE: {},\\nRMSE: {},\\n'.format(results[0],results[1],results[2]))"
   ]
  },
  {
   "cell_type": "code",
   "execution_count": 165,
   "id": "cc3866f3",
   "metadata": {},
   "outputs": [
    {
     "name": "stdout",
     "output_type": "stream",
     "text": [
      "Model:KNN\n",
      "Average Values:\n",
      "R2: 0.0038,\n",
      "MSE: 88.6378, \n",
      "RMSE: 9.4110\n"
     ]
    }
   ],
   "source": [
    "print('Model:KNN')\n",
    "print('Average Values:')\n",
    "avg=statistics.mean([x[0] for x in n]),statistics.mean([x[1] for x in n]),statistics.mean([x[2] for x in n])\n",
    "print('R2: {:0.4f},\\nMSE: {:0.4f}, \\nRMSE: {:0.4f}'.format(avg[0],avg[1],avg[2]))"
   ]
  },
  {
   "cell_type": "markdown",
   "id": "de381028",
   "metadata": {},
   "source": [
    "### Best Model: Random Forest"
   ]
  },
  {
   "cell_type": "markdown",
   "id": "b8a469e5",
   "metadata": {},
   "source": [
    "- The best model is Random Forest Model as it has maximum R2 Score in both cross validation methods as compared to other metrices.So,the final prediction of target variable will be made by  using this Model."
   ]
  },
  {
   "cell_type": "markdown",
   "id": "f9714148",
   "metadata": {},
   "source": [
    "### Cross Validation of Best Model"
   ]
  },
  {
   "cell_type": "code",
   "execution_count": 166,
   "id": "499d15b8",
   "metadata": {},
   "outputs": [
    {
     "name": "stderr",
     "output_type": "stream",
     "text": [
      "[Parallel(n_jobs=-1)]: Using backend LokyBackend with 4 concurrent workers.\n",
      "[Parallel(n_jobs=-1)]: Done  10 out of  10 | elapsed:   24.8s finished\n"
     ]
    },
    {
     "data": {
      "text/plain": [
       "{'fit_time': array([7.27973771, 7.43756008, 7.41356134, 7.46125031, 7.24733996,\n",
       "        7.30018091, 7.28456116, 7.23769188, 4.83023405, 4.81535006]),\n",
       " 'score_time': array([0.03124976, 0.02369022, 0.03199792, 0.03124642, 0.03125024,\n",
       "        0.01562667, 0.03211474, 0.03973842, 0.01562619, 0.00809002]),\n",
       " 'test_score': array([0.90898121, 0.947575  , 0.87678966, 0.88000846, 0.87442336,\n",
       "        0.9409855 , 0.94766447, 0.86131362, 0.89926727, 0.89731321])}"
      ]
     },
     "execution_count": 166,
     "metadata": {},
     "output_type": "execute_result"
    }
   ],
   "source": [
    "model = RandomForestRegressor(random_state=42)\n",
    "score = cross_validate(model, X, y, cv=10, n_jobs=-1, verbose=1)\n",
    "score"
   ]
  },
  {
   "cell_type": "code",
   "execution_count": 167,
   "id": "0d8de4d3",
   "metadata": {},
   "outputs": [
    {
     "data": {
      "text/plain": [
       "0.9034"
      ]
     },
     "execution_count": 167,
     "metadata": {},
     "output_type": "execute_result"
    }
   ],
   "source": [
    "score['test_score'].mean().round(4)"
   ]
  },
  {
   "cell_type": "markdown",
   "id": "38b2d2dc",
   "metadata": {},
   "source": [
    "### Final Predictions"
   ]
  },
  {
   "cell_type": "code",
   "execution_count": 168,
   "id": "77611378",
   "metadata": {
    "scrolled": false
   },
   "outputs": [
    {
     "data": {
      "text/plain": [
       "array([66.016, 68.9  , 68.363, 81.261, 53.123, 53.114, 66.039, 64.906,\n",
       "       68.077, 53.568, 53.123, 53.123, 53.504, 65.954, 64.527, 54.053,\n",
       "       65.153, 81.339, 54.424, 81.399, 81.221, 81.455, 66.039, 65.905,\n",
       "       65.444, 53.889, 65.592, 65.873, 81.459, 66.039, 63.895, 66.019,\n",
       "       66.039, 60.372, 81.314, 52.988, 53.123, 64.527, 66.039, 66.701,\n",
       "       53.871, 59.388, 80.649, 81.36 , 68.479, 53.32 , 81.33 , 65.954,\n",
       "       65.032, 65.341, 64.385, 66.074, 81.334, 65.954, 68.094, 53.569,\n",
       "       81.34 , 64.559, 65.954, 65.298, 65.549, 53.797, 68.338, 65.925,\n",
       "       53.336, 53.663, 53.882, 81.222, 60.229, 69.029, 81.299, 68.47 ,\n",
       "       67.365, 53.663, 52.988, 65.895, 65.495, 81.189, 53.827, 65.233,\n",
       "       65.52 , 65.228, 66.039, 65.422, 65.747, 81.355, 68.519, 65.08 ,\n",
       "       80.634, 81.378, 65.773, 53.569, 64.611, 80.226, 68.639, 65.267,\n",
       "       81.364, 63.936, 65.806, 65.182, 81.399, 53.082, 63.745, 53.336,\n",
       "       66.209, 81.359, 65.934, 65.387, 54.587, 53.123, 66.039, 66.039,\n",
       "       53.8  , 65.269, 65.269, 68.474, 53.569, 53.797, 58.721, 65.495,\n",
       "       65.059, 65.971, 81.466, 53.123, 65.147, 65.758, 64.011, 54.369,\n",
       "       65.897, 66.112, 65.855, 81.294, 66.049, 66.039, 58.998, 64.636,\n",
       "       80.649, 81.222, 81.277, 68.202, 64.205, 65.925, 60.117, 65.195,\n",
       "       53.123, 66.039, 66.049, 68.399, 53.123, 68.673, 80.628, 81.339,\n",
       "       65.967, 60.118, 81.33 , 66.166, 81.29 , 64.517, 81.985, 81.29 ,\n",
       "       64.994, 81.313, 66.156, 81.378, 64.701, 65.581, 54.132, 81.459,\n",
       "       81.338, 64.901, 81.459, 67.945, 66.106, 53.797, 64.011, 66.039,\n",
       "       64.517, 60.073, 53.84 , 66.039, 81.33 , 64.259, 81.407, 66.014,\n",
       "       81.352, 53.77 , 65.952, 53.105, 66.039, 68.614, 60.155, 66.039,\n",
       "       81.344, 65.979, 66.106, 65.86 , 68.587, 64.093, 81.344, 64.517,\n",
       "       65.862, 53.569, 66.124, 63.934, 65.22 , 53.558, 67.363, 66.039,\n",
       "       64.177, 81.41 , 53.797, 53.123, 68.855, 53.456, 65.171, 65.204,\n",
       "       65.954, 65.89 , 53.808, 65.954, 66.106, 68.694, 65.954, 81.297,\n",
       "       68.666, 53.569, 53.123, 64.304, 53.203, 53.995, 64.541, 66.272,\n",
       "       66.039, 68.332, 64.527, 53.797, 81.346, 81.497, 52.988, 67.836,\n",
       "       68.556, 66.156, 66.118, 66.039, 53.765, 53.129, 81.193, 80.751,\n",
       "       68.9  , 60.167, 66.118, 81.335, 59.06 , 81.319, 66.278, 64.617,\n",
       "       60.116, 81.344, 53.827, 53.456, 65.52 , 64.585, 65.979, 53.772,\n",
       "       66.039, 81.344, 63.892, 81.339, 59.464, 64.931, 64.445, 53.123,\n",
       "       68.382, 67.805, 53.246, 65.765, 65.147, 66.293, 65.846, 66.039,\n",
       "       65.949, 81.27 , 65.52 , 64.611, 66.795, 65.979, 68.477, 53.064,\n",
       "       66.039, 66.015, 65.224, 65.954, 65.102, 66.166, 81.338, 59.964,\n",
       "       81.265, 64.138, 53.031, 65.267, 68.422, 68.675, 64.852, 68.494,\n",
       "       65.915, 53.699, 64.385, 53.702, 66.039, 70.018, 64.664, 53.069,\n",
       "       68.708, 61.603, 66.016, 54.337, 53.227, 65.285, 59.873, 65.957,\n",
       "       53.789, 81.314, 53.138, 64.362, 66.039, 81.338, 74.359, 65.288,\n",
       "       67.141, 81.36 , 65.905, 65.979, 54.358, 66.039, 64.617, 81.36 ,\n",
       "       66.228, 68.81 , 66.039, 66.039, 67.265, 68.424, 63.745, 68.494,\n",
       "       64.052, 53.8  , 53.22 , 66.118, 63.71 , 64.617, 65.466, 63.745,\n",
       "       61.685, 53.808, 64.66 , 81.336, 65.957, 66.122, 64.611, 67.365,\n",
       "       53.808, 64.517, 81.362, 66.039, 66.039, 53.123, 53.808, 81.189,\n",
       "       53.296, 74.656, 68.739, 53.797, 64.517, 68.758, 64.662, 63.906,\n",
       "       53.797, 66.055, 65.673, 65.267, 53.123, 81.424, 81.378, 81.364,\n",
       "       60.147, 53.737, 67.12 , 53.504, 66.106, 68.81 , 53.594, 69.053,\n",
       "       74.297, 81.958, 65.756, 65.269, 81.424, 64.597, 81.378, 68.098,\n",
       "       53.156, 81.287, 53.8  , 68.817, 65.783, 54.379, 65.141, 68.464,\n",
       "       65.859, 65.444, 65.954, 81.319, 65.954, 68.81 , 65.957, 63.769,\n",
       "       65.269, 68.519, 64.258, 66.156, 65.796, 53.797, 66.039, 65.69 ,\n",
       "       68.519, 64.415, 53.797, 61.417, 64.43 , 64.636, 52.988, 81.189,\n",
       "       65.267, 63.605, 53.77 , 52.988, 53.772, 65.895, 65.954, 68.407,\n",
       "       68.706, 65.136, 66.039, 81.985, 81.338, 64.597, 68.598, 81.354,\n",
       "       81.352, 54.246, 81.302, 53.081, 66.039, 68.929, 53.082, 65.957,\n",
       "       81.342, 53.123, 65.859, 80.754, 64.664, 53.123, 65.239, 65.195,\n",
       "       54.417, 58.691, 81.392, 64.906, 81.985, 65.967, 65.401, 73.695,\n",
       "       63.64 , 64.611, 81.281, 65.786, 65.224, 66.039, 81.722, 65.957,\n",
       "       81.338, 66.156, 66.181, 81.311, 66.039, 81.314, 68.785, 81.33 ,\n",
       "       63.844, 80.766, 65.981, 63.749, 53.087, 66.039, 68.338, 65.102,\n",
       "       81.221, 65.899, 53.797, 65.843, 63.739, 59.528, 81.38 , 64.517,\n",
       "       81.728, 81.327, 65.957, 81.714, 64.135, 66.039, 59.644, 65.895,\n",
       "       65.925, 66.112, 53.107, 65.777, 60.061, 53.797, 65.296, 53.797,\n",
       "       68.826, 81.392, 68.547, 68.094, 65.869, 65.979, 65.318, 68.209,\n",
       "       65.549, 81.344, 53.123, 64.391, 65.444, 81.313, 65.344, 81.392,\n",
       "       65.895, 73.715, 81.495, 81.722, 68.91 , 53.617, 53.197, 66.039,\n",
       "       67.945, 53.797, 63.755, 53.562, 53.797, 68.521, 68.641, 65.021,\n",
       "       81.338, 53.797, 68.733, 64.158, 81.344, 65.267, 64.512, 81.374,\n",
       "       53.75 , 81.227, 81.316, 68.202, 53.246, 68.094, 81.318, 81.469,\n",
       "       52.988, 65.002, 69.019, 65.224, 69.051, 65.869, 65.214, 66.039,\n",
       "       65.846, 65.053, 64.931, 68.736, 53.797, 65.848, 81.717, 60.229,\n",
       "       68.706, 59.422, 68.341, 68.604, 65.772, 65.747, 66.094, 66.112,\n",
       "       81.258, 53.85 , 60.147, 65.991, 66.039, 73.762, 64.527, 71.424,\n",
       "       65.878, 68.587, 53.394, 81.365, 65.269, 53.054, 65.269, 53.808,\n",
       "       66.292, 65.324, 66.039, 81.355, 81.341, 65.444, 64.609, 81.324,\n",
       "       68.706, 68.562, 81.364, 53.123, 64.521, 64.662, 81.319, 64.664,\n",
       "       64.589, 68.855, 60.854, 81.412, 66.039, 53.797, 68.604, 54.424,\n",
       "       53.871, 81.298, 65.058, 81.341, 81.259, 81.179, 66.039, 66.039,\n",
       "       81.722, 65.747, 64.803, 64.609, 65.86 , 66.049, 68.563, 53.071,\n",
       "       64.42 , 59.476, 66.106, 66.039, 66.279, 66.039, 53.789, 81.27 ,\n",
       "       81.344, 68.354, 64.847, 53.772, 65.52 , 60.147, 65.949, 80.692,\n",
       "       68.382, 81.44 , 53.123, 53.882, 65.872, 68.587, 53.123, 53.86 ,\n",
       "       65.811, 64.874, 65.28 , 53.204, 65.495, 66.039, 53.32 , 52.988,\n",
       "       66.279, 53.8  , 74.282, 81.33 , 64.611, 81.397, 66.049, 53.738,\n",
       "       64.501, 81.718, 53.744, 81.299, 65.926, 59.796, 68.797, 81.239,\n",
       "       81.287, 66.039, 81.344, 60.38 , 59.476, 64.358, 53.573, 53.123,\n",
       "       53.797, 65.58 , 81.316, 66.039, 68.574, 81.399, 53.568, 81.346,\n",
       "       81.312, 66.773, 64.799, 81.362, 64.418, 68.381, 69.934, 58.436,\n",
       "       65.239, 66.156, 68.468, 65.907, 53.161, 60.117, 53.568, 65.517,\n",
       "       65.438, 68.992, 68.548, 65.52 , 53.973, 66.039, 65.459, 66.122,\n",
       "       66.014, 66.039, 53.803, 68.554, 81.287, 60.936, 66.074, 64.617,\n",
       "       81.44 , 65.954, 81.36 , 66.039, 53.797, 53.797, 64.874, 53.797,\n",
       "       81.27 , 81.33 , 66.071, 64.999, 66.008, 53.558, 53.797, 53.862,\n",
       "       65.925, 66.039, 65.309, 65.195, 66.126, 66.007, 65.979, 54.337,\n",
       "       67.659, 54.337, 66.111, 53.123, 81.359, 65.893, 53.8  , 69.031,\n",
       "       53.278, 64.517, 74.656, 66.039, 53.808, 68.81 , 81.459, 65.147,\n",
       "       68.532, 65.269, 53.59 , 54.382, 53.123, 81.399, 65.957, 81.466,\n",
       "       65.499, 53.123, 65.957, 68.488, 66.039, 68.852, 53.123, 53.797,\n",
       "       53.082, 81.338, 53.663, 74.358, 81.495, 64.36 , 53.123, 65.979,\n",
       "       81.338, 65.267, 64.418, 68.454, 68.092, 65.168, 81.338, 81.364,\n",
       "       69.932, 64.458, 64.386, 60.31 , 60.128, 65.899, 66.227, 65.957,\n",
       "       63.749, 54.132, 81.717, 64.358, 68.589, 65.523, 68.347, 65.975,\n",
       "       60.117, 53.772, 65.889, 66.039, 81.372, 53.661, 64.609, 68.473,\n",
       "       81.356, 64.309, 68.574, 53.774, 65.922, 65.002, 54.31 , 64.001,\n",
       "       81.342, 52.972, 63.895, 53.578, 68.589, 65.994, 64.999, 59.853,\n",
       "       53.789, 64.597, 81.362, 65.895, 65.954, 60.854, 53.082, 54.424,\n",
       "       64.158, 81.364, 64.474, 81.469, 67.945, 66.014, 64.527, 66.278,\n",
       "       53.743, 68.642, 66.039, 66.039, 63.867, 65.523, 66.079, 81.36 ,\n",
       "       81.466, 66.039])"
      ]
     },
     "execution_count": 168,
     "metadata": {},
     "output_type": "execute_result"
    }
   ],
   "source": [
    "model=RandomForestRegressor()\n",
    "model.fit(X,y)\n",
    "Final_predictions=model.predict(X_test)\n",
    "Final_predictions"
   ]
  },
  {
   "cell_type": "markdown",
   "id": "7dcce72e",
   "metadata": {},
   "source": [
    "### Visualization of Random Forest Regression Results (Actual vs Predicted)"
   ]
  },
  {
   "cell_type": "code",
   "execution_count": 185,
   "id": "1ef2c33d",
   "metadata": {},
   "outputs": [
    {
     "data": {
      "application/javascript": [
       "\n",
       "        if (window._pyforest_update_imports_cell) { window._pyforest_update_imports_cell('import matplotlib.pyplot as plt\\nfrom sklearn.preprocessing import StandardScaler\\nimport pandas as pd\\nfrom sklearn.model_selection import train_test_split\\nfrom sklearn.linear_model import LinearRegression'); }\n",
       "    "
      ],
      "text/plain": [
       "<IPython.core.display.Javascript object>"
      ]
     },
     "metadata": {},
     "output_type": "display_data"
    },
    {
     "data": {
      "application/javascript": [
       "\n",
       "        if (window._pyforest_update_imports_cell) { window._pyforest_update_imports_cell('import matplotlib.pyplot as plt\\nfrom sklearn.preprocessing import StandardScaler\\nimport pandas as pd\\nfrom sklearn.model_selection import train_test_split\\nfrom sklearn.linear_model import LinearRegression'); }\n",
       "    "
      ],
      "text/plain": [
       "<IPython.core.display.Javascript object>"
      ]
     },
     "metadata": {},
     "output_type": "display_data"
    },
    {
     "data": {
      "application/javascript": [
       "\n",
       "        if (window._pyforest_update_imports_cell) { window._pyforest_update_imports_cell('import matplotlib.pyplot as plt\\nfrom sklearn.preprocessing import StandardScaler\\nimport pandas as pd\\nfrom sklearn.model_selection import train_test_split\\nfrom sklearn.linear_model import LinearRegression'); }\n",
       "    "
      ],
      "text/plain": [
       "<IPython.core.display.Javascript object>"
      ]
     },
     "metadata": {},
     "output_type": "display_data"
    },
    {
     "data": {
      "application/javascript": [
       "\n",
       "        if (window._pyforest_update_imports_cell) { window._pyforest_update_imports_cell('import matplotlib.pyplot as plt\\nfrom sklearn.preprocessing import StandardScaler\\nimport pandas as pd\\nfrom sklearn.model_selection import train_test_split\\nfrom sklearn.linear_model import LinearRegression'); }\n",
       "    "
      ],
      "text/plain": [
       "<IPython.core.display.Javascript object>"
      ]
     },
     "metadata": {},
     "output_type": "display_data"
    },
    {
     "data": {
      "application/javascript": [
       "\n",
       "        if (window._pyforest_update_imports_cell) { window._pyforest_update_imports_cell('import matplotlib.pyplot as plt\\nfrom sklearn.preprocessing import StandardScaler\\nimport pandas as pd\\nfrom sklearn.model_selection import train_test_split\\nfrom sklearn.linear_model import LinearRegression'); }\n",
       "    "
      ],
      "text/plain": [
       "<IPython.core.display.Javascript object>"
      ]
     },
     "metadata": {},
     "output_type": "display_data"
    },
    {
     "data": {
      "application/javascript": [
       "\n",
       "        if (window._pyforest_update_imports_cell) { window._pyforest_update_imports_cell('import matplotlib.pyplot as plt\\nfrom sklearn.preprocessing import StandardScaler\\nimport pandas as pd\\nfrom sklearn.model_selection import train_test_split\\nfrom sklearn.linear_model import LinearRegression'); }\n",
       "    "
      ],
      "text/plain": [
       "<IPython.core.display.Javascript object>"
      ]
     },
     "metadata": {},
     "output_type": "display_data"
    },
    {
     "data": {
      "text/plain": [
       "Text(0, 0.5, 'y')"
      ]
     },
     "execution_count": 185,
     "metadata": {},
     "output_type": "execute_result"
    },
    {
     "data": {
      "image/png": "[encoded data removed]",
      "text/plain": [
       "<Figure size 864x576 with 1 Axes>"
      ]
     },
     "metadata": {
      "needs_background": "light"
     },
     "output_type": "display_data"
    }
   ],
   "source": [
    "plt.figure(figsize=(12, 8))\n",
    "plt.scatter(y_test, Final_predictions)     \n",
    "plt.plot(y_test,y_test, 'ro')   \n",
    "plt.title('Random Forest Regression Model')\n",
    "plt.xlabel('X')\n",
    "plt.ylabel('y')"
   ]
  },
  {
   "cell_type": "code",
   "execution_count": null,
   "id": "a78fe738",
   "metadata": {},
   "outputs": [],
   "source": []
  }
 ],
 "metadata": {
  "kernelspec": {
   "display_name": "Python 3 (ipykernel)",
   "language": "python",
   "name": "python3"
  },
  "language_info": {
   "codemirror_mode": {
    "name": "ipython",
    "version": 3
   },
   "file_extension": ".py",
   "mimetype": "text/x-python",
   "name": "python",
   "nbconvert_exporter": "python",
   "pygments_lexer": "ipython3",
   "version": "3.9.12"
  }
 },
 "nbformat": 4,
 "nbformat_minor": 5
}
