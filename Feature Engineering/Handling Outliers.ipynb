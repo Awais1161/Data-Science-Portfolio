{
 "cells": [
  {
   "cell_type": "markdown",
   "id": "cb8f1684",
   "metadata": {},
   "source": [
    "# Outliers\n",
    "\n",
    "- An Outlier is an observation in a given dataset that lies far from the rest of the observations. That means an outlier is vastly larger or smaller than the remaining values in the set.\n",
    "- An outlier may occur due to the variability in the data, or due to experimental error/human error.\n",
    "\n",
    "- They may indicate an experimental error or heavy skewness in the data(heavy-tailed distribution).\n",
    "\n",
    "- **Detecting Outliers**\n",
    "\n",
    "- Below are some of the techniques of detecting outliers\n",
    "\n",
    "1. Boxplots\n",
    "2. Z-score\n",
    "3. Inter Quantile Range(IQR)"
   ]
  },
  {
   "cell_type": "markdown",
   "id": "b2d96424",
   "metadata": {},
   "source": [
    "#### Which Machine Learning Models Are Sensitive To Outliers?\n",
    "1. Naivye Bayes Classifier--- Not Sensitive To Outliers\n",
    "2. SVM--------                Not Sensitive To Outliers          \n",
    "3. Linear Regression----------  Sensitive To Outliers\n",
    "4. Logistic Regression-------   Sensitive To Outliers\n",
    "5. Decision Tree Regressor or Classifier---- Not Sensitive\n",
    "6. Ensemble(RF,XGboost,GB)------- Not Sensitive\n",
    "7. KNN--------------------------- Not Sensitive \n",
    "8. Kmeans------------------------ Sensitive\n",
    "9. Hierarichal------------------- Sensitive \n",
    "10. PCA-------------------------- very very Sensitive \n",
    "11. Neural Networks-------------- Sensitive\n",
    "12. DBSCAN -----------------------Sensitive\n",
    "\n",
    "- **if data set has outliers and data is imbalanced, don't select algorithm directly which are sensitive**"
   ]
  },
  {
   "cell_type": "markdown",
   "id": "243a2ae6",
   "metadata": {},
   "source": [
    "# Detecting Outliers"
   ]
  },
  {
   "cell_type": "code",
   "execution_count": 212,
   "id": "83af5a81",
   "metadata": {},
   "outputs": [],
   "source": [
    "import pandas as pd\n",
    "import numpy as np\n",
    "import seaborn as sns\n",
    "import warnings\n",
    "warnings.filterwarnings('ignore')"
   ]
  },
  {
   "cell_type": "code",
   "execution_count": 247,
   "id": "bb07cc86",
   "metadata": {},
   "outputs": [
    {
     "data": {
      "text/html": [
       "<div>\n",
       "<style scoped>\n",
       "    .dataframe tbody tr th:only-of-type {\n",
       "        vertical-align: middle;\n",
       "    }\n",
       "\n",
       "    .dataframe tbody tr th {\n",
       "        vertical-align: top;\n",
       "    }\n",
       "\n",
       "    .dataframe thead th {\n",
       "        text-align: right;\n",
       "    }\n",
       "</style>\n",
       "<table border=\"1\" class=\"dataframe\">\n",
       "  <thead>\n",
       "    <tr style=\"text-align: right;\">\n",
       "      <th></th>\n",
       "      <th>PassengerId</th>\n",
       "      <th>Survived</th>\n",
       "      <th>Pclass</th>\n",
       "      <th>Name</th>\n",
       "      <th>Sex</th>\n",
       "      <th>Age</th>\n",
       "      <th>SibSp</th>\n",
       "      <th>Parch</th>\n",
       "      <th>Ticket</th>\n",
       "      <th>Fare</th>\n",
       "      <th>Cabin</th>\n",
       "      <th>Embarked</th>\n",
       "    </tr>\n",
       "  </thead>\n",
       "  <tbody>\n",
       "    <tr>\n",
       "      <th>0</th>\n",
       "      <td>1</td>\n",
       "      <td>0</td>\n",
       "      <td>3</td>\n",
       "      <td>Braund, Mr. Owen Harris</td>\n",
       "      <td>male</td>\n",
       "      <td>22.0</td>\n",
       "      <td>1</td>\n",
       "      <td>0</td>\n",
       "      <td>A/5 21171</td>\n",
       "      <td>7.2500</td>\n",
       "      <td>NaN</td>\n",
       "      <td>S</td>\n",
       "    </tr>\n",
       "    <tr>\n",
       "      <th>1</th>\n",
       "      <td>2</td>\n",
       "      <td>1</td>\n",
       "      <td>1</td>\n",
       "      <td>Cumings, Mrs. John Bradley (Florence Briggs Th...</td>\n",
       "      <td>female</td>\n",
       "      <td>38.0</td>\n",
       "      <td>1</td>\n",
       "      <td>0</td>\n",
       "      <td>PC 17599</td>\n",
       "      <td>71.2833</td>\n",
       "      <td>C85</td>\n",
       "      <td>C</td>\n",
       "    </tr>\n",
       "    <tr>\n",
       "      <th>2</th>\n",
       "      <td>3</td>\n",
       "      <td>1</td>\n",
       "      <td>3</td>\n",
       "      <td>Heikkinen, Miss. Laina</td>\n",
       "      <td>female</td>\n",
       "      <td>26.0</td>\n",
       "      <td>0</td>\n",
       "      <td>0</td>\n",
       "      <td>STON/O2. 3101282</td>\n",
       "      <td>7.9250</td>\n",
       "      <td>NaN</td>\n",
       "      <td>S</td>\n",
       "    </tr>\n",
       "    <tr>\n",
       "      <th>3</th>\n",
       "      <td>4</td>\n",
       "      <td>1</td>\n",
       "      <td>1</td>\n",
       "      <td>Futrelle, Mrs. Jacques Heath (Lily May Peel)</td>\n",
       "      <td>female</td>\n",
       "      <td>35.0</td>\n",
       "      <td>1</td>\n",
       "      <td>0</td>\n",
       "      <td>113803</td>\n",
       "      <td>53.1000</td>\n",
       "      <td>C123</td>\n",
       "      <td>S</td>\n",
       "    </tr>\n",
       "    <tr>\n",
       "      <th>4</th>\n",
       "      <td>5</td>\n",
       "      <td>0</td>\n",
       "      <td>3</td>\n",
       "      <td>Allen, Mr. William Henry</td>\n",
       "      <td>male</td>\n",
       "      <td>35.0</td>\n",
       "      <td>0</td>\n",
       "      <td>0</td>\n",
       "      <td>373450</td>\n",
       "      <td>8.0500</td>\n",
       "      <td>NaN</td>\n",
       "      <td>S</td>\n",
       "    </tr>\n",
       "  </tbody>\n",
       "</table>\n",
       "</div>"
      ],
      "text/plain": [
       "   PassengerId  Survived  Pclass  \\\n",
       "0            1         0       3   \n",
       "1            2         1       1   \n",
       "2            3         1       3   \n",
       "3            4         1       1   \n",
       "4            5         0       3   \n",
       "\n",
       "                                                Name     Sex   Age  SibSp  \\\n",
       "0                            Braund, Mr. Owen Harris    male  22.0      1   \n",
       "1  Cumings, Mrs. John Bradley (Florence Briggs Th...  female  38.0      1   \n",
       "2                             Heikkinen, Miss. Laina  female  26.0      0   \n",
       "3       Futrelle, Mrs. Jacques Heath (Lily May Peel)  female  35.0      1   \n",
       "4                           Allen, Mr. William Henry    male  35.0      0   \n",
       "\n",
       "   Parch            Ticket     Fare Cabin Embarked  \n",
       "0      0         A/5 21171   7.2500   NaN        S  \n",
       "1      0          PC 17599  71.2833   C85        C  \n",
       "2      0  STON/O2. 3101282   7.9250   NaN        S  \n",
       "3      0            113803  53.1000  C123        S  \n",
       "4      0            373450   8.0500   NaN        S  "
      ]
     },
     "execution_count": 247,
     "metadata": {},
     "output_type": "execute_result"
    }
   ],
   "source": [
    "df=pd.read_csv('titanic.csv')\n",
    "df.head()"
   ]
  },
  {
   "cell_type": "code",
   "execution_count": 248,
   "id": "98d1d7aa",
   "metadata": {},
   "outputs": [
    {
     "data": {
      "text/plain": [
       "(891, 12)"
      ]
     },
     "execution_count": 248,
     "metadata": {},
     "output_type": "execute_result"
    }
   ],
   "source": [
    "df.shape"
   ]
  },
  {
   "cell_type": "code",
   "execution_count": 249,
   "id": "7eb28214",
   "metadata": {},
   "outputs": [
    {
     "data": {
      "text/plain": [
       "177"
      ]
     },
     "execution_count": 249,
     "metadata": {},
     "output_type": "execute_result"
    }
   ],
   "source": [
    "df['Age'].isnull().sum()"
   ]
  },
  {
   "cell_type": "code",
   "execution_count": 250,
   "id": "ca3a3aa4",
   "metadata": {},
   "outputs": [
    {
     "data": {
      "image/png": "[encoded data removed]",
      "text/plain": [
       "<Figure size 432x288 with 1 Axes>"
      ]
     },
     "metadata": {
      "needs_background": "light"
     },
     "output_type": "display_data"
    }
   ],
   "source": [
    "sns.distplot(df['Age'].dropna());"
   ]
  },
  {
   "cell_type": "code",
   "execution_count": 251,
   "id": "43128965",
   "metadata": {},
   "outputs": [
    {
     "data": {
      "image/png": "[encoded data removed]",
      "text/plain": [
       "<Figure size 432x288 with 1 Axes>"
      ]
     },
     "metadata": {
      "needs_background": "light"
     },
     "output_type": "display_data"
    }
   ],
   "source": [
    "sns.distplot(df['Age'].fillna(100));"
   ]
  },
  {
   "cell_type": "markdown",
   "id": "e922342b",
   "metadata": {},
   "source": [
    "### Gaussian Distributed Data"
   ]
  },
  {
   "cell_type": "code",
   "execution_count": 252,
   "id": "b41e3a6d",
   "metadata": {},
   "outputs": [
    {
     "data": {
      "image/png": "[encoded data removed]",
      "text/plain": [
       "<Figure size 432x288 with 1 Axes>"
      ]
     },
     "metadata": {
      "needs_background": "light"
     },
     "output_type": "display_data"
    }
   ],
   "source": [
    "figure=df.Age.hist(bins=30)\n",
    "figure.set_title('Age')\n",
    "figure.set_xlabel('Age')\n",
    "figure.set_ylabel('No of Passengers');"
   ]
  },
  {
   "cell_type": "code",
   "execution_count": 253,
   "id": "ad88023b",
   "metadata": {},
   "outputs": [
    {
     "data": {
      "image/png": "[encoded data removed]",
      "text/plain": [
       "<Figure size 432x288 with 1 Axes>"
      ]
     },
     "metadata": {
      "needs_background": "light"
     },
     "output_type": "display_data"
    }
   ],
   "source": [
    "figure=df.boxplot(column='Age')"
   ]
  },
  {
   "cell_type": "code",
   "execution_count": 237,
   "id": "e60377c6",
   "metadata": {},
   "outputs": [
    {
     "data": {
      "text/plain": [
       "count    714.000000\n",
       "mean      29.699118\n",
       "std       14.526497\n",
       "min        0.420000\n",
       "25%       20.125000\n",
       "50%       28.000000\n",
       "75%       38.000000\n",
       "max       80.000000\n",
       "Name: Age, dtype: float64"
      ]
     },
     "execution_count": 237,
     "metadata": {},
     "output_type": "execute_result"
    }
   ],
   "source": [
    "df['Age'].describe()"
   ]
  },
  {
   "cell_type": "markdown",
   "id": "0dd4b08f",
   "metadata": {},
   "source": [
    "### Standard Deviation Method"
   ]
  },
  {
   "cell_type": "code",
   "execution_count": 254,
   "id": "ce7de482",
   "metadata": {},
   "outputs": [
    {
     "name": "stdout",
     "output_type": "stream",
     "text": [
      "73.27860964406095\n",
      "-13.88037434994331\n",
      "29.69911764705882\n"
     ]
    }
   ],
   "source": [
    "upper_bound=df['Age'].mean()+3*df['Age'].std()\n",
    "lower_bound=df['Age'].mean()-3*df['Age'].std()\n",
    "print(upper_bound)\n",
    "print(lower_bound)\n",
    "print(df['Age'].mean())"
   ]
  },
  {
   "cell_type": "code",
   "execution_count": 259,
   "id": "b2d5a2ee",
   "metadata": {},
   "outputs": [
    {
     "name": "stdout",
     "output_type": "stream",
     "text": [
      "Outliers : \n",
      " [80.0, 74.0]\n",
      "\n",
      "No.of outliers in \"Age\": 2\n"
     ]
    }
   ],
   "source": [
    "outliers=[]\n",
    "def detect_outliers(df):\n",
    "    mean = np.mean(df)\n",
    "    std = np.std(df)\n",
    "    upper_limit=mean+3*std\n",
    "    lower_limit=mean-3*std\n",
    "    for n in df:\n",
    "        if (n<lower_limit or n>upper_limit):\n",
    "            outliers.append(n)\n",
    "    return outliers\n",
    "outliers = detect_outliers(df['Age'])\n",
    "print(\"Outliers : \\n\", outliers)\n",
    "print('\\nNo.of outliers in \"Age\":',len(outliers))"
   ]
  },
  {
   "cell_type": "markdown",
   "id": "785ce232",
   "metadata": {},
   "source": [
    "### Skewed Data"
   ]
  },
  {
   "cell_type": "code",
   "execution_count": 263,
   "id": "a4603c3c",
   "metadata": {},
   "outputs": [
    {
     "data": {
      "image/png": "[encoded data removed]",
      "text/plain": [
       "<Figure size 432x288 with 1 Axes>"
      ]
     },
     "metadata": {
      "needs_background": "light"
     },
     "output_type": "display_data"
    }
   ],
   "source": [
    "figure=df['Fare'].hist(bins=30)\n",
    "figure.set_title('Fare')\n",
    "figure.set_xlabel('Fare')\n",
    "figure.set_ylabel('No. of Passengers');"
   ]
  },
  {
   "cell_type": "code",
   "execution_count": 224,
   "id": "effef9e0",
   "metadata": {},
   "outputs": [
    {
     "data": {
      "text/plain": [
       "count    891.000000\n",
       "mean      32.204208\n",
       "std       49.693429\n",
       "min        0.000000\n",
       "25%        7.910400\n",
       "50%       14.454200\n",
       "75%       31.000000\n",
       "max      512.329200\n",
       "Name: Fare, dtype: float64"
      ]
     },
     "execution_count": 224,
     "metadata": {},
     "output_type": "execute_result"
    }
   ],
   "source": [
    "df.Fare.describe()"
   ]
  },
  {
   "cell_type": "markdown",
   "id": "a4271c56",
   "metadata": {},
   "source": [
    "### IQR Method\n",
    "\n",
    "**steps:**\n",
    "- Sort the dataset in ascending order\n",
    "- calculate the 1st and 3rd quartiles(Q1, Q3)\n",
    "- compute IQR=Q3-Q1\n",
    "- compute lower bound = (Q1–1.5*IQR), upper bound = (Q3+1.5*IQR)\n",
    "- loop through the values of the dataset and check for those who fall below the lower bound and above the upper bound and mark them as outliers"
   ]
  },
  {
   "cell_type": "code",
   "execution_count": 264,
   "id": "cb3ec72f",
   "metadata": {},
   "outputs": [
    {
     "name": "stdout",
     "output_type": "stream",
     "text": [
      "Outliers : \n",
      " [66.6, 66.6, 69.3, 69.3, 69.55, 69.55, 69.55, 69.55, 69.55, 69.55, 69.55, 71.0, 71.0, 71.2833, 73.5, 73.5, 73.5, 73.5, 73.5, 75.25, 76.2917, 76.7292, 76.7292, 76.7292, 77.2875, 77.2875, 77.9583, 77.9583, 77.9583, 78.2667, 78.2667, 78.85, 78.85, 79.2, 79.2, 79.2, 79.2, 79.65, 79.65, 79.65, 80.0, 80.0, 81.8583, 82.1708, 82.1708, 83.1583, 83.1583, 83.1583, 83.475, 83.475, 86.5, 86.5, 86.5, 89.1042, 89.1042, 90.0, 90.0, 90.0, 90.0, 91.0792, 91.0792, 93.5, 93.5, 106.425, 106.425, 108.9, 108.9, 110.8833, 110.8833, 110.8833, 110.8833, 113.275, 113.275, 113.275, 120.0, 120.0, 120.0, 120.0, 133.65, 133.65, 134.5, 134.5, 135.6333, 135.6333, 135.6333, 146.5208, 146.5208, 151.55, 151.55, 151.55, 151.55, 153.4625, 153.4625, 153.4625, 164.8667, 164.8667, 211.3375, 211.3375, 211.3375, 211.5, 221.7792, 227.525, 227.525, 227.525, 227.525, 247.5208, 247.5208, 262.375, 262.375, 263.0, 263.0, 263.0, 263.0, 512.3292, 512.3292, 512.3292]\n",
      "\n",
      "No.of outliers in \"Fare\": 116\n"
     ]
    }
   ],
   "source": [
    "outliers=[]\n",
    "def detect_outliers(df):\n",
    "    df=sorted(df)\n",
    "    Q1 = np.percentile(df,25)\n",
    "    Q3 = np.percentile(df,75)\n",
    "    IQR = Q3 - Q1\n",
    "    upper_limit=Q3 + (1.5 * IQR)\n",
    "    lower_limit=Q1 - (1.5 * IQR)\n",
    "    for n in df:\n",
    "        if (n<lower_limit or n>upper_limit):\n",
    "            outliers.append(n)\n",
    "    return outliers\n",
    "outliers = detect_outliers(df['Fare'])\n",
    "print(\"Outliers : \\n\", outliers)\n",
    "print('\\nNo.of outliers in \"Fare\":',len(outliers))"
   ]
  },
  {
   "cell_type": "markdown",
   "id": "97c44d3b",
   "metadata": {},
   "source": [
    "# Handling Outliers"
   ]
  },
  {
   "cell_type": "markdown",
   "id": "136e7af4",
   "metadata": {},
   "source": [
    "### Trimming/Remove the outliers\n",
    "\n",
    "- In this technique, we remove the outliers from the dataset. Although it is not a good practice to follow."
   ]
  },
  {
   "cell_type": "code",
   "execution_count": 226,
   "id": "f1ff5b42",
   "metadata": {},
   "outputs": [],
   "source": [
    "index = df[(df['Age'] >= upper_limit)|(df['Age'] <= lower_limit)].index\n",
    "df.drop(index, inplace=True)"
   ]
  },
  {
   "cell_type": "code",
   "execution_count": 227,
   "id": "9cc4bd6f",
   "metadata": {},
   "outputs": [
    {
     "data": {
      "text/plain": [
       "(883, 12)"
      ]
     },
     "execution_count": 227,
     "metadata": {},
     "output_type": "execute_result"
    }
   ],
   "source": [
    "df.shape"
   ]
  },
  {
   "cell_type": "code",
   "execution_count": 228,
   "id": "aaece57b",
   "metadata": {},
   "outputs": [
    {
     "data": {
      "image/png": "[encoded data removed]",
      "text/plain": [
       "<Figure size 432x288 with 1 Axes>"
      ]
     },
     "metadata": {
      "needs_background": "light"
     },
     "output_type": "display_data"
    }
   ],
   "source": [
    "figure=df.boxplot(column='Age')"
   ]
  },
  {
   "cell_type": "code",
   "execution_count": 229,
   "id": "5ec9ba23",
   "metadata": {},
   "outputs": [],
   "source": [
    "index = df[(df['Fare'] >= upper_limit)|(df['Fare'] <= lower_limit)].index\n",
    "df.drop(index, inplace=True)"
   ]
  },
  {
   "cell_type": "code",
   "execution_count": 230,
   "id": "fea37637",
   "metadata": {},
   "outputs": [
    {
     "data": {
      "text/plain": [
       "(768, 12)"
      ]
     },
     "execution_count": 230,
     "metadata": {},
     "output_type": "execute_result"
    }
   ],
   "source": [
    "df.shape"
   ]
  },
  {
   "cell_type": "code",
   "execution_count": 231,
   "id": "48be2b1c",
   "metadata": {},
   "outputs": [
    {
     "data": {
      "image/png": "[encoded data removed]",
      "text/plain": [
       "<Figure size 432x288 with 1 Axes>"
      ]
     },
     "metadata": {
      "needs_background": "light"
     },
     "output_type": "display_data"
    }
   ],
   "source": [
    "figure=df['Fare'].hist(bins=30)\n",
    "figure.set_title('Fare')\n",
    "figure.set_xlabel('Fare')\n",
    "figure.set_ylabel('No. of Passengers');"
   ]
  },
  {
   "cell_type": "markdown",
   "id": "a4d43928",
   "metadata": {},
   "source": [
    "### Capping Outliers using IQR Ranges\n",
    "\n",
    "- Trimming outliers altogether may result in the removal of a large number of records from your dataset which isn’t desirable in some cases since columns other than the ones containing the outlier values may contain useful information.\n",
    "\n",
    "- In such cases, you can use outlier capping to replace the outlier values with a maximum or minimum capped values. Be warned, this manipulates your data, but here’s how you do it.\n",
    "\n",
    "- Outlier values can be replaced by the upper and lower limit calculated using the IQR ranges"
   ]
  },
  {
   "cell_type": "code",
   "execution_count": 241,
   "id": "f1f775cf",
   "metadata": {},
   "outputs": [],
   "source": [
    "df[\"Age\"] = np.where(df[\"Age\"]> upper_limit, upper_limit,\n",
    "                        np.where(df[\"Age\"]< lower_limit, lower_limit,\n",
    "                          df[\"Age\"]))"
   ]
  },
  {
   "cell_type": "code",
   "execution_count": 242,
   "id": "adca2284",
   "metadata": {},
   "outputs": [
    {
     "data": {
      "image/png": "[encoded data removed]",
      "text/plain": [
       "<Figure size 432x288 with 1 Axes>"
      ]
     },
     "metadata": {
      "needs_background": "light"
     },
     "output_type": "display_data"
    }
   ],
   "source": [
    "figure=df.boxplot(column='Age')"
   ]
  },
  {
   "cell_type": "code",
   "execution_count": 245,
   "id": "f7c499d0",
   "metadata": {},
   "outputs": [],
   "source": [
    "df[\"Fare\"] = np.where(df[\"Fare\"]> upper_limit, upper_limit,\n",
    "                        np.where(df[\"Fare\"]< lower_limit, lower_limit,\n",
    "                          df[\"Fare\"]))"
   ]
  },
  {
   "cell_type": "code",
   "execution_count": 246,
   "id": "8ca505e2",
   "metadata": {},
   "outputs": [
    {
     "data": {
      "image/png": "[encoded data removed]",
      "text/plain": [
       "<Figure size 432x288 with 1 Axes>"
      ]
     },
     "metadata": {
      "needs_background": "light"
     },
     "output_type": "display_data"
    }
   ],
   "source": [
    "figure=df['Fare'].hist(bins=30)\n",
    "figure.set_title('Fare')\n",
    "figure.set_xlabel('Fare')\n",
    "figure.set_ylabel('No. of Passengers');"
   ]
  },
  {
   "cell_type": "markdown",
   "id": "5a373fe6",
   "metadata": {},
   "source": [
    "### Replacing Outliers with Median Values\n",
    "\n",
    "- In this technique, we replace the extreme values with median values. It is advised to not use mean values as they are affected by outliers"
   ]
  },
  {
   "cell_type": "code",
   "execution_count": 258,
   "id": "26d11710",
   "metadata": {},
   "outputs": [
    {
     "data": {
      "text/plain": [
       "28.0"
      ]
     },
     "execution_count": 258,
     "metadata": {},
     "output_type": "execute_result"
    }
   ],
   "source": [
    "median = (df['Age']).median()\n",
    "median"
   ]
  },
  {
   "cell_type": "code",
   "execution_count": 261,
   "id": "1f053b91",
   "metadata": {},
   "outputs": [],
   "source": [
    "df[\"Age\"] = np.where(df[\"Age\"]> upper_limit, median,\n",
    "                        np.where(df[\"Age\"]< lower_limit, median,\n",
    "                        df[\"Age\"]))"
   ]
  },
  {
   "cell_type": "code",
   "execution_count": 262,
   "id": "85e6d779",
   "metadata": {},
   "outputs": [
    {
     "data": {
      "image/png": "[encoded data removed]",
      "text/plain": [
       "<Figure size 432x288 with 1 Axes>"
      ]
     },
     "metadata": {
      "needs_background": "light"
     },
     "output_type": "display_data"
    }
   ],
   "source": [
    "figure=df.boxplot(column='Age')"
   ]
  },
  {
   "cell_type": "code",
   "execution_count": 265,
   "id": "7b6ae08a",
   "metadata": {},
   "outputs": [
    {
     "data": {
      "text/plain": [
       "14.4542"
      ]
     },
     "execution_count": 265,
     "metadata": {},
     "output_type": "execute_result"
    }
   ],
   "source": [
    "median = (df['Fare']).median()\n",
    "median"
   ]
  },
  {
   "cell_type": "code",
   "execution_count": 266,
   "id": "f6b87f0b",
   "metadata": {},
   "outputs": [],
   "source": [
    "df[\"Fare\"] = np.where(df[\"Fare\"]> upper_limit, median,\n",
    "                        np.where(df[\"Fare\"]< lower_limit, median,\n",
    "                        df[\"Fare\"]))"
   ]
  },
  {
   "cell_type": "code",
   "execution_count": 267,
   "id": "8b6f1b68",
   "metadata": {},
   "outputs": [
    {
     "data": {
      "image/png": "[encoded data removed]",
      "text/plain": [
       "<Figure size 432x288 with 1 Axes>"
      ]
     },
     "metadata": {
      "needs_background": "light"
     },
     "output_type": "display_data"
    }
   ],
   "source": [
    "figure=df['Fare'].hist(bins=30)\n",
    "figure.set_title('Fare')\n",
    "figure.set_xlabel('Fare')\n",
    "figure.set_ylabel('No. of Passengers');"
   ]
  }
 ],
 "metadata": {
  "kernelspec": {
   "display_name": "Python 3 (ipykernel)",
   "language": "python",
   "name": "python3"
  },
  "language_info": {
   "codemirror_mode": {
    "name": "ipython",
    "version": 3
   },
   "file_extension": ".py",
   "mimetype": "text/x-python",
   "name": "python",
   "nbconvert_exporter": "python",
   "pygments_lexer": "ipython3",
   "version": "3.9.12"
  }
 },
 "nbformat": 4,
 "nbformat_minor": 5
}
