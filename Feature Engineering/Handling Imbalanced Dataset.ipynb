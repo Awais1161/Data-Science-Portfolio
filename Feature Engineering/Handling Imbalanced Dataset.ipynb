{
 "cells": [
  {
   "cell_type": "markdown",
   "id": "6667534e",
   "metadata": {},
   "source": [
    "# Imbalanced Classes\n",
    "\n",
    "- A classification problem in machine learning is where we have given some input (independent variables), and we have to predict a discrete target. \n",
    "- It is highly possible that the distribution of discrete values will be very different. Due to this difference in each class, the algorithms tend to get biased towards the majority values present and don’t perform well on the minority values.\n",
    "\n",
    "- This difference in class frequencies affects the overall predictability of the model.\n",
    "\n",
    "- Getting good accuracy on these problems is not very difficult, but it is not always about getting a good score. We need to check whether the performance of these models makes any business sense or have any value. \n",
    "- That is why it is essential to understand problem statement and data so that you could use the right metric and optimize it using suitable methods.\n",
    " \n",
    "- It merely tells that the target class’s frequency is highly imbalanced, i.e., the occurrence of one of the classes is very high compared to the other classes present. \n",
    "- In other words, there is a bias or skewness towards the majority class present in the target."
   ]
  },
  {
   "cell_type": "markdown",
   "id": "02207b61",
   "metadata": {},
   "source": [
    "# Techniques to deal with Imbalanced Classes "
   ]
  },
  {
   "cell_type": "code",
   "execution_count": 1,
   "id": "306cc011",
   "metadata": {},
   "outputs": [],
   "source": [
    "from sklearn.linear_model import LogisticRegression\n",
    "from sklearn.metrics import SCORERS, accuracy_score,f1_score,confusion_matrix,roc_auc_score\n",
    "from sklearn.model_selection import train_test_split\n",
    "\n",
    "from collections import Counter\n",
    "\n",
    "import pandas as pd\n",
    "import numpy as np\n",
    "import matplotlib.pyplot as plt\n",
    "import seaborn as sns\n",
    "\n",
    "import warnings\n",
    "warnings.filterwarnings('ignore')"
   ]
  },
  {
   "cell_type": "code",
   "execution_count": 2,
   "id": "8562c1e0",
   "metadata": {},
   "outputs": [
    {
     "data": {
      "text/html": [
       "<div>\n",
       "<style scoped>\n",
       "    .dataframe tbody tr th:only-of-type {\n",
       "        vertical-align: middle;\n",
       "    }\n",
       "\n",
       "    .dataframe tbody tr th {\n",
       "        vertical-align: top;\n",
       "    }\n",
       "\n",
       "    .dataframe thead th {\n",
       "        text-align: right;\n",
       "    }\n",
       "</style>\n",
       "<table border=\"1\" class=\"dataframe\">\n",
       "  <thead>\n",
       "    <tr style=\"text-align: right;\">\n",
       "      <th></th>\n",
       "      <th>Time</th>\n",
       "      <th>V1</th>\n",
       "      <th>V2</th>\n",
       "      <th>V3</th>\n",
       "      <th>V4</th>\n",
       "      <th>V5</th>\n",
       "      <th>V6</th>\n",
       "      <th>V7</th>\n",
       "      <th>V8</th>\n",
       "      <th>V9</th>\n",
       "      <th>...</th>\n",
       "      <th>V21</th>\n",
       "      <th>V22</th>\n",
       "      <th>V23</th>\n",
       "      <th>V24</th>\n",
       "      <th>V25</th>\n",
       "      <th>V26</th>\n",
       "      <th>V27</th>\n",
       "      <th>V28</th>\n",
       "      <th>Amount</th>\n",
       "      <th>Class</th>\n",
       "    </tr>\n",
       "  </thead>\n",
       "  <tbody>\n",
       "    <tr>\n",
       "      <th>0</th>\n",
       "      <td>0.0</td>\n",
       "      <td>-1.359807</td>\n",
       "      <td>-0.072781</td>\n",
       "      <td>2.536347</td>\n",
       "      <td>1.378155</td>\n",
       "      <td>-0.338321</td>\n",
       "      <td>0.462388</td>\n",
       "      <td>0.239599</td>\n",
       "      <td>0.098698</td>\n",
       "      <td>0.363787</td>\n",
       "      <td>...</td>\n",
       "      <td>-0.018307</td>\n",
       "      <td>0.277838</td>\n",
       "      <td>-0.110474</td>\n",
       "      <td>0.066928</td>\n",
       "      <td>0.128539</td>\n",
       "      <td>-0.189115</td>\n",
       "      <td>0.133558</td>\n",
       "      <td>-0.021053</td>\n",
       "      <td>149.62</td>\n",
       "      <td>0</td>\n",
       "    </tr>\n",
       "    <tr>\n",
       "      <th>1</th>\n",
       "      <td>0.0</td>\n",
       "      <td>1.191857</td>\n",
       "      <td>0.266151</td>\n",
       "      <td>0.166480</td>\n",
       "      <td>0.448154</td>\n",
       "      <td>0.060018</td>\n",
       "      <td>-0.082361</td>\n",
       "      <td>-0.078803</td>\n",
       "      <td>0.085102</td>\n",
       "      <td>-0.255425</td>\n",
       "      <td>...</td>\n",
       "      <td>-0.225775</td>\n",
       "      <td>-0.638672</td>\n",
       "      <td>0.101288</td>\n",
       "      <td>-0.339846</td>\n",
       "      <td>0.167170</td>\n",
       "      <td>0.125895</td>\n",
       "      <td>-0.008983</td>\n",
       "      <td>0.014724</td>\n",
       "      <td>2.69</td>\n",
       "      <td>0</td>\n",
       "    </tr>\n",
       "    <tr>\n",
       "      <th>2</th>\n",
       "      <td>1.0</td>\n",
       "      <td>-1.358354</td>\n",
       "      <td>-1.340163</td>\n",
       "      <td>1.773209</td>\n",
       "      <td>0.379780</td>\n",
       "      <td>-0.503198</td>\n",
       "      <td>1.800499</td>\n",
       "      <td>0.791461</td>\n",
       "      <td>0.247676</td>\n",
       "      <td>-1.514654</td>\n",
       "      <td>...</td>\n",
       "      <td>0.247998</td>\n",
       "      <td>0.771679</td>\n",
       "      <td>0.909412</td>\n",
       "      <td>-0.689281</td>\n",
       "      <td>-0.327642</td>\n",
       "      <td>-0.139097</td>\n",
       "      <td>-0.055353</td>\n",
       "      <td>-0.059752</td>\n",
       "      <td>378.66</td>\n",
       "      <td>0</td>\n",
       "    </tr>\n",
       "    <tr>\n",
       "      <th>3</th>\n",
       "      <td>1.0</td>\n",
       "      <td>-0.966272</td>\n",
       "      <td>-0.185226</td>\n",
       "      <td>1.792993</td>\n",
       "      <td>-0.863291</td>\n",
       "      <td>-0.010309</td>\n",
       "      <td>1.247203</td>\n",
       "      <td>0.237609</td>\n",
       "      <td>0.377436</td>\n",
       "      <td>-1.387024</td>\n",
       "      <td>...</td>\n",
       "      <td>-0.108300</td>\n",
       "      <td>0.005274</td>\n",
       "      <td>-0.190321</td>\n",
       "      <td>-1.175575</td>\n",
       "      <td>0.647376</td>\n",
       "      <td>-0.221929</td>\n",
       "      <td>0.062723</td>\n",
       "      <td>0.061458</td>\n",
       "      <td>123.50</td>\n",
       "      <td>0</td>\n",
       "    </tr>\n",
       "    <tr>\n",
       "      <th>4</th>\n",
       "      <td>2.0</td>\n",
       "      <td>-1.158233</td>\n",
       "      <td>0.877737</td>\n",
       "      <td>1.548718</td>\n",
       "      <td>0.403034</td>\n",
       "      <td>-0.407193</td>\n",
       "      <td>0.095921</td>\n",
       "      <td>0.592941</td>\n",
       "      <td>-0.270533</td>\n",
       "      <td>0.817739</td>\n",
       "      <td>...</td>\n",
       "      <td>-0.009431</td>\n",
       "      <td>0.798278</td>\n",
       "      <td>-0.137458</td>\n",
       "      <td>0.141267</td>\n",
       "      <td>-0.206010</td>\n",
       "      <td>0.502292</td>\n",
       "      <td>0.219422</td>\n",
       "      <td>0.215153</td>\n",
       "      <td>69.99</td>\n",
       "      <td>0</td>\n",
       "    </tr>\n",
       "  </tbody>\n",
       "</table>\n",
       "<p>5 rows × 31 columns</p>\n",
       "</div>"
      ],
      "text/plain": [
       "   Time        V1        V2        V3        V4        V5        V6        V7  \\\n",
       "0   0.0 -1.359807 -0.072781  2.536347  1.378155 -0.338321  0.462388  0.239599   \n",
       "1   0.0  1.191857  0.266151  0.166480  0.448154  0.060018 -0.082361 -0.078803   \n",
       "2   1.0 -1.358354 -1.340163  1.773209  0.379780 -0.503198  1.800499  0.791461   \n",
       "3   1.0 -0.966272 -0.185226  1.792993 -0.863291 -0.010309  1.247203  0.237609   \n",
       "4   2.0 -1.158233  0.877737  1.548718  0.403034 -0.407193  0.095921  0.592941   \n",
       "\n",
       "         V8        V9  ...       V21       V22       V23       V24       V25  \\\n",
       "0  0.098698  0.363787  ... -0.018307  0.277838 -0.110474  0.066928  0.128539   \n",
       "1  0.085102 -0.255425  ... -0.225775 -0.638672  0.101288 -0.339846  0.167170   \n",
       "2  0.247676 -1.514654  ...  0.247998  0.771679  0.909412 -0.689281 -0.327642   \n",
       "3  0.377436 -1.387024  ... -0.108300  0.005274 -0.190321 -1.175575  0.647376   \n",
       "4 -0.270533  0.817739  ... -0.009431  0.798278 -0.137458  0.141267 -0.206010   \n",
       "\n",
       "        V26       V27       V28  Amount  Class  \n",
       "0 -0.189115  0.133558 -0.021053  149.62      0  \n",
       "1  0.125895 -0.008983  0.014724    2.69      0  \n",
       "2 -0.139097 -0.055353 -0.059752  378.66      0  \n",
       "3 -0.221929  0.062723  0.061458  123.50      0  \n",
       "4  0.502292  0.219422  0.215153   69.99      0  \n",
       "\n",
       "[5 rows x 31 columns]"
      ]
     },
     "execution_count": 2,
     "metadata": {},
     "output_type": "execute_result"
    }
   ],
   "source": [
    "df=pd.read_csv('creditcard.csv')\n",
    "df.head()"
   ]
  },
  {
   "cell_type": "code",
   "execution_count": 5,
   "id": "9502979f",
   "metadata": {},
   "outputs": [
    {
     "data": {
      "text/plain": [
       "(284807, 31)"
      ]
     },
     "execution_count": 5,
     "metadata": {},
     "output_type": "execute_result"
    }
   ],
   "source": [
    "df.shape"
   ]
  },
  {
   "cell_type": "code",
   "execution_count": 7,
   "id": "8714ec54",
   "metadata": {},
   "outputs": [
    {
     "data": {
      "text/plain": [
       "0    284315\n",
       "1       492\n",
       "Name: Class, dtype: int64"
      ]
     },
     "execution_count": 7,
     "metadata": {},
     "output_type": "execute_result"
    }
   ],
   "source": [
    "df['Class'].value_counts()"
   ]
  },
  {
   "cell_type": "markdown",
   "id": "c3631a55",
   "metadata": {},
   "source": [
    "**Fradulant and Non-Fradulant Data**"
   ]
  },
  {
   "cell_type": "code",
   "execution_count": 8,
   "id": "82139d3a",
   "metadata": {},
   "outputs": [],
   "source": [
    "data_0=df[df['Class']==0]\n",
    "data_1=df[df['Class']==1]"
   ]
  },
  {
   "cell_type": "code",
   "execution_count": 9,
   "id": "701af0a2",
   "metadata": {},
   "outputs": [],
   "source": [
    "# take only 10000 samples \n",
    "\n",
    "data_0=data_0.sample(n=10000)"
   ]
  },
  {
   "cell_type": "code",
   "execution_count": 10,
   "id": "85a1c05a",
   "metadata": {},
   "outputs": [],
   "source": [
    "df=data_1.append(data_0)"
   ]
  },
  {
   "cell_type": "code",
   "execution_count": 12,
   "id": "9dbfeb86",
   "metadata": {},
   "outputs": [
    {
     "data": {
      "text/plain": [
       "0    10000\n",
       "1      492\n",
       "Name: Class, dtype: int64"
      ]
     },
     "execution_count": 12,
     "metadata": {},
     "output_type": "execute_result"
    }
   ],
   "source": [
    "df.Class.value_counts()"
   ]
  },
  {
   "cell_type": "code",
   "execution_count": 13,
   "id": "28395013",
   "metadata": {},
   "outputs": [
    {
     "name": "stdout",
     "output_type": "stream",
     "text": [
      "Number of Fradulant \"1\" : 492\n",
      "Number of Non-Fradulant \"0\" : 10000\n"
     ]
    }
   ],
   "source": [
    "count=df.Class.value_counts()\n",
    "print('Number of Fradulant \"1\" :',count[1])\n",
    "print('Number of Non-Fradulant \"0\" :', count[0])"
   ]
  },
  {
   "cell_type": "code",
   "execution_count": 14,
   "id": "78cc82f3",
   "metadata": {},
   "outputs": [
    {
     "data": {
      "text/plain": [
       "4.92"
      ]
     },
     "execution_count": 14,
     "metadata": {},
     "output_type": "execute_result"
    }
   ],
   "source": [
    "# percentage of fradulant:\n",
    "(count[1]/count[0])*100\n"
   ]
  },
  {
   "cell_type": "code",
   "execution_count": 21,
   "id": "23434853",
   "metadata": {},
   "outputs": [
    {
     "data": {
      "image/png": "[encoded data removed]",
      "text/plain": [
       "<Figure size 1080x432 with 2 Axes>"
      ]
     },
     "metadata": {},
     "output_type": "display_data"
    }
   ],
   "source": [
    "f,ax=plt.subplots(1,2,figsize=(15,6))\n",
    "df['Class'].value_counts().plot.pie(explode=[0,0.1],autopct='%1.1f%%',ax=ax[0],shadow=True)\n",
    "ax[0].set_title('Class')\n",
    "ax[0].set_ylabel('')\n",
    "sns.countplot(x=df['Class'],ax=ax[1])\n",
    "ax[1].set_title('Class')\n",
    "ax[1].set_xticklabels(['Not Fraud', 'Fraud']);"
   ]
  },
  {
   "cell_type": "code",
   "execution_count": 18,
   "id": "08cd7182",
   "metadata": {},
   "outputs": [
    {
     "data": {
      "image/png": "[encoded data removed]",
      "text/plain": [
       "<Figure size 576x360 with 1 Axes>"
      ]
     },
     "metadata": {},
     "output_type": "display_data"
    }
   ],
   "source": [
    "sns.set(style=\"whitegrid\")\n",
    "plt.figure(figsize=(8,5))\n",
    "total = float(len(df))\n",
    "ax = sns.countplot(x=\"Class\", data=df)\n",
    "plt.title('Class', fontsize=20)\n",
    "ax.set_xticklabels(['Not Fraud', 'Fraud'])\n",
    "for p in ax.patches:\n",
    "    percentage = '{:.1f}%'.format(100 * p.get_height()/total)\n",
    "    x = p.get_x() + p.get_width()\n",
    "    y = p.get_height()\n",
    "    ax.annotate(percentage, (x, y),ha='center')"
   ]
  },
  {
   "cell_type": "code",
   "execution_count": 16,
   "id": "a508fc0d",
   "metadata": {},
   "outputs": [],
   "source": [
    "X=df.drop('Class',axis=1)\n",
    "y=df.Class"
   ]
  },
  {
   "cell_type": "code",
   "execution_count": 6,
   "id": "2148fa57",
   "metadata": {},
   "outputs": [
    {
     "data": {
      "text/plain": [
       "284807.0"
      ]
     },
     "execution_count": 6,
     "metadata": {},
     "output_type": "execute_result"
    }
   ],
   "source": [
    "total = float(len(df))\n",
    "total"
   ]
  },
  {
   "cell_type": "code",
   "execution_count": 17,
   "id": "84088c5c",
   "metadata": {},
   "outputs": [
    {
     "name": "stdout",
     "output_type": "stream",
     "text": [
      "(10492, 30)\n",
      "(10492,)\n"
     ]
    }
   ],
   "source": [
    "print(X.shape)\n",
    "print(y.shape)"
   ]
  },
  {
   "cell_type": "code",
   "execution_count": 18,
   "id": "d33d86b0",
   "metadata": {},
   "outputs": [
    {
     "data": {
      "text/plain": [
       "(492, 10000)"
      ]
     },
     "execution_count": 18,
     "metadata": {},
     "output_type": "execute_result"
    }
   ],
   "source": [
    "one = np.where(y==1)\n",
    "zero = np.where(y==0)\n",
    "len(one[0]), len(zero[0])"
   ]
  },
  {
   "cell_type": "markdown",
   "id": "b92391a6",
   "metadata": {},
   "source": [
    "**Train Test Split**"
   ]
  },
  {
   "cell_type": "code",
   "execution_count": 19,
   "id": "1a93e628",
   "metadata": {},
   "outputs": [],
   "source": [
    "X_train,X_test,y_train,y_test=train_test_split(X,y, test_size=0.2,random_state=42)"
   ]
  },
  {
   "cell_type": "markdown",
   "id": "73951525",
   "metadata": {},
   "source": [
    "**Logistic Regression Model**"
   ]
  },
  {
   "cell_type": "code",
   "execution_count": 20,
   "id": "d9175a70",
   "metadata": {},
   "outputs": [
    {
     "data": {
      "text/plain": [
       "LogisticRegression()"
      ]
     },
     "execution_count": 20,
     "metadata": {},
     "output_type": "execute_result"
    }
   ],
   "source": [
    "model=LogisticRegression()\n",
    "model.fit(X_train,y_train)"
   ]
  },
  {
   "cell_type": "code",
   "execution_count": 21,
   "id": "f6b9862b",
   "metadata": {},
   "outputs": [],
   "source": [
    "y_pred=model.predict(X_test)"
   ]
  },
  {
   "cell_type": "code",
   "execution_count": 69,
   "id": "b8efbd59",
   "metadata": {},
   "outputs": [
    {
     "name": "stdout",
     "output_type": "stream",
     "text": [
      "Accuracy Score: 0.9861838970938542\n"
     ]
    }
   ],
   "source": [
    "print('Accuracy Score:', accuracy_score(y_pred,y_test))"
   ]
  },
  {
   "cell_type": "code",
   "execution_count": 70,
   "id": "493a31af",
   "metadata": {},
   "outputs": [
    {
     "data": {
      "text/plain": [
       "array([0, 1], dtype=int64)"
      ]
     },
     "execution_count": 70,
     "metadata": {},
     "output_type": "execute_result"
    }
   ],
   "source": [
    "np.unique(y_pred)"
   ]
  },
  {
   "cell_type": "markdown",
   "id": "4d4338f2",
   "metadata": {},
   "source": [
    "# Matrics Trap\n",
    "\n",
    "- One of the major issues that new developer users fall into when dealing with unbalanced datasets relates to the metrics used to evaluate their model. \n",
    "- Using simpler metrics like accuracy score can be misleading. In a dataset with highly unbalanced classes, the classifier will always “predicts” the most common class without performing any analysis of the features and it will have a high accuracy rate, obviously not the correct one."
   ]
  },
  {
   "cell_type": "code",
   "execution_count": 10,
   "id": "99e6636e",
   "metadata": {},
   "outputs": [
    {
     "name": "stdout",
     "output_type": "stream",
     "text": [
      "Requirement already satisfied: xgboost in c:\\users\\awais\\anaconda3\\lib\\site-packages (1.4.1)\n",
      "Requirement already satisfied: numpy in c:\\users\\awais\\anaconda3\\lib\\site-packages (from xgboost) (1.21.5)\n",
      "Requirement already satisfied: scipy in c:\\users\\awais\\anaconda3\\lib\\site-packages (from xgboost) (1.7.3)\n"
     ]
    }
   ],
   "source": [
    "!pip install xgboost"
   ]
  },
  {
   "cell_type": "code",
   "execution_count": 15,
   "id": "6fbf12cd",
   "metadata": {},
   "outputs": [],
   "source": [
    "from xgboost import XGBClassifier"
   ]
  },
  {
   "cell_type": "code",
   "execution_count": 29,
   "id": "73fd13f6",
   "metadata": {},
   "outputs": [],
   "source": [
    "model=XGBClassifier()"
   ]
  },
  {
   "cell_type": "code",
   "execution_count": 30,
   "id": "542f2012",
   "metadata": {},
   "outputs": [
    {
     "name": "stdout",
     "output_type": "stream",
     "text": [
      "[19:48:55] WARNING: C:\\Windows\\Temp\\abs_557yfx631l\\croots\\recipe\\xgboost-split_1659548953302\\work\\src\\learner.cc:1115: Starting in XGBoost 1.3.0, the default evaluation metric used with the objective 'binary:logistic' was changed from 'error' to 'logloss'. Explicitly set eval_metric if you'd like to restore the old behavior.\n"
     ]
    },
    {
     "data": {
      "text/plain": [
       "XGBClassifier(base_score=0.5, booster='gbtree', colsample_bylevel=1,\n",
       "              colsample_bynode=1, colsample_bytree=1, enable_categorical=False,\n",
       "              gamma=0, gpu_id=-1, importance_type=None,\n",
       "              interaction_constraints='', learning_rate=0.300000012,\n",
       "              max_delta_step=0, max_depth=6, min_child_weight=1, missing=nan,\n",
       "              monotone_constraints='()', n_estimators=100, n_jobs=4,\n",
       "              num_parallel_tree=1, predictor='auto', random_state=0,\n",
       "              reg_alpha=0, reg_lambda=1, scale_pos_weight=1, subsample=1,\n",
       "              tree_method='exact', validate_parameters=1, verbosity=None)"
      ]
     },
     "execution_count": 30,
     "metadata": {},
     "output_type": "execute_result"
    }
   ],
   "source": [
    "model.fit(X_train,y_train)"
   ]
  },
  {
   "cell_type": "markdown",
   "id": "2e4d2aa7",
   "metadata": {},
   "source": [
    "**Model Performance**"
   ]
  },
  {
   "cell_type": "code",
   "execution_count": 37,
   "id": "91dac7a3",
   "metadata": {},
   "outputs": [
    {
     "name": "stdout",
     "output_type": "stream",
     "text": [
      "Accuracy score is: 0.9996313331694814\n",
      "Roc auc scote: 0.9934950866279596\n",
      "F1 core: 0.8813559322033897\n"
     ]
    }
   ],
   "source": [
    "xgb_y_predict=xgb_model.predict(X_test)\n",
    "xgb_score=accuracy_score(xgb_y_predict,y_test)\n",
    "print('Accuracy score is:', xgb_score)\n",
    "print('Roc auc scote:', roc_auc_score(xgb_y_predict, y_test))\n",
    "print('F1 core:',f1_score( y_test,xgb_y_predict))"
   ]
  },
  {
   "cell_type": "code",
   "execution_count": 38,
   "id": "13cbc74e",
   "metadata": {},
   "outputs": [
    {
     "data": {
      "text/plain": [
       "array([[56863,     1],\n",
       "       [   20,    78]], dtype=int64)"
      ]
     },
     "execution_count": 38,
     "metadata": {},
     "output_type": "execute_result"
    }
   ],
   "source": [
    "confusion_matrix( y_test,xgb_y_predict)"
   ]
  },
  {
   "cell_type": "code",
   "execution_count": 40,
   "id": "0ab6e6d4",
   "metadata": {},
   "outputs": [
    {
     "name": "stdout",
     "output_type": "stream",
     "text": [
      "\n",
      "XGBClassifier(base_score=0.5, booster='gbtree', colsample_bylevel=1,\n",
      "              colsample_bynode=1, colsample_bytree=1, enable_categorical=False,\n",
      "              gamma=0, gpu_id=-1, importance_type=None,\n",
      "              interaction_constraints='', learning_rate=0.300000012,\n",
      "              max_delta_step=0, max_depth=6, min_child_weight=1, missing=nan,\n",
      "              monotone_constraints='()', n_estimators=100, n_jobs=4,\n",
      "              num_parallel_tree=1, predictor='auto', random_state=0,\n",
      "              reg_alpha=0, reg_lambda=1, scale_pos_weight=1, subsample=1,\n",
      "              tree_method='exact', validate_parameters=1, verbosity=None)\n"
     ]
    }
   ],
   "source": [
    "print();print(model)"
   ]
  },
  {
   "cell_type": "markdown",
   "id": "b3831220",
   "metadata": {},
   "source": [
    "# Resampling Techniques\n",
    "\n",
    "- One of the widely adopted class imbalance techniques for dealing with highly unbalanced datasets is called resampling.\n",
    "- It consists of removing samples from the majority class (under-sampling) and/or adding more examples from the minority class (over-sampling).\n",
    "- The simplest implementation of over-sampling is to duplicate random records from the minority class, which can cause overfishing.\n",
    "- In under-sampling, the simplest technique involves removing random records from the majority class, which can cause loss of information.\n",
    "\n"
   ]
  },
  {
   "cell_type": "code",
   "execution_count": 88,
   "id": "9cf5ae6d",
   "metadata": {},
   "outputs": [
    {
     "name": "stdout",
     "output_type": "stream",
     "text": [
      "10000\n",
      "492\n"
     ]
    }
   ],
   "source": [
    "class_count_0, class_count_1=df['Class'].value_counts()\n",
    "\n",
    "print(class_count_0)\n",
    "print(class_count_1)\n"
   ]
  },
  {
   "cell_type": "code",
   "execution_count": 89,
   "id": "7f321bb0",
   "metadata": {},
   "outputs": [
    {
     "name": "stdout",
     "output_type": "stream",
     "text": [
      "(10000, 31)\n",
      "(492, 31)\n"
     ]
    }
   ],
   "source": [
    "class_0=df[df['Class']==0]\n",
    "class_1=df[df['Class']==1]\n",
    "\n",
    "print(class_0.shape)\n",
    "print(class_1.shape)"
   ]
  },
  {
   "cell_type": "markdown",
   "id": "60a4f8de",
   "metadata": {},
   "source": [
    "# Random Under Sampling\n",
    "\n",
    "- Undersampling can be defined as removing some observations of the majority class. This is done until the majority and minority class is balanced out.\n",
    "\n",
    "- Undersampling can be a good choice when you have a ton of data -think millions of rows. But a drawback to undersampling is that we are removing information that may be valuable."
   ]
  },
  {
   "cell_type": "code",
   "execution_count": 96,
   "id": "78d22c84",
   "metadata": {},
   "outputs": [
    {
     "name": "stdout",
     "output_type": "stream",
     "text": [
      "Total class of 1 and 0:\n",
      " 0    492\n",
      "1    492\n",
      "Name: Class, dtype: int64\n"
     ]
    }
   ],
   "source": [
    "class_0_under=class_0.sample(class_count_1)\n",
    "test_under=pd.concat([class_0_under,class_1],axis=0)\n",
    "print('Total class of 1 and 0:\\n',test_under['Class'].value_counts())"
   ]
  },
  {
   "cell_type": "code",
   "execution_count": 98,
   "id": "15d6c431",
   "metadata": {},
   "outputs": [
    {
     "data": {
      "image/png": "[encoded data removed]",
      "text/plain": [
       "<Figure size 432x288 with 1 Axes>"
      ]
     },
     "metadata": {
      "needs_background": "light"
     },
     "output_type": "display_data"
    }
   ],
   "source": [
    "test_under['Class'].value_counts().plot(kind='bar',title='Count(Target)');"
   ]
  },
  {
   "cell_type": "markdown",
   "id": "9bd3eea2",
   "metadata": {},
   "source": [
    "# Random Over-Sampling\n",
    "\n",
    "- Oversampling can be defined as adding more copies to the minority class. Oversampling can be a good choice when you don’t have a ton of data to work with.\n",
    "\n",
    "- A con to consider when undersampling is that it can cause overfitting and poor generalization to your test set.\n",
    "\n"
   ]
  },
  {
   "cell_type": "code",
   "execution_count": 100,
   "id": "2c9166b8",
   "metadata": {},
   "outputs": [
    {
     "name": "stdout",
     "output_type": "stream",
     "text": [
      "Total class of 1 and 0:\n",
      " 1    10000\n",
      "0    10000\n",
      "Name: Class, dtype: int64\n"
     ]
    }
   ],
   "source": [
    "class_1_over=class_1.sample(class_count_0,replace=True)\n",
    "test_under=pd.concat([class_1_over,class_0],axis=0)\n",
    "print('Total class of 1 and 0:\\n',test_under['Class'].value_counts())"
   ]
  },
  {
   "cell_type": "code",
   "execution_count": 102,
   "id": "ce1da24f",
   "metadata": {},
   "outputs": [
    {
     "data": {
      "image/png": "[encoded data removed]",
      "text/plain": [
       "<Figure size 432x288 with 1 Axes>"
      ]
     },
     "metadata": {
      "needs_background": "light"
     },
     "output_type": "display_data"
    }
   ],
   "source": [
    "test_under['Class'].value_counts().plot(kind='bar',title='Count(Target)');"
   ]
  },
  {
   "cell_type": "markdown",
   "id": "53d35906",
   "metadata": {},
   "source": [
    "# Random under-sampling with imblearn\n",
    "\n",
    "- `RandomUnderSampler` is a fast and easy way to balance the data by randomly selecting a subset of data for the targeted classes. \n",
    "- Under-sample the majority class(es) by randomly picking samples with or without replacement."
   ]
  },
  {
   "cell_type": "code",
   "execution_count": 4,
   "id": "b93f09ce",
   "metadata": {},
   "outputs": [
    {
     "name": "stdout",
     "output_type": "stream",
     "text": [
      "Collecting imblearn\n",
      "  Downloading imblearn-0.0-py2.py3-none-any.whl (1.9 kB)\n",
      "Collecting imbalanced-learn\n",
      "  Downloading imbalanced_learn-0.10.0-py3-none-any.whl (225 kB)\n",
      "Collecting joblib>=1.1.1\n",
      "  Downloading joblib-1.2.0-py3-none-any.whl (297 kB)\n",
      "Requirement already satisfied: scikit-learn>=1.0.2 in c:\\users\\awais\\anaconda3\\lib\\site-packages (from imbalanced-learn->imblearn) (1.0.2)\n",
      "Requirement already satisfied: numpy>=1.17.3 in c:\\users\\awais\\anaconda3\\lib\\site-packages (from imbalanced-learn->imblearn) (1.21.5)\n",
      "Requirement already satisfied: scipy>=1.3.2 in c:\\users\\awais\\anaconda3\\lib\\site-packages (from imbalanced-learn->imblearn) (1.7.3)\n",
      "Requirement already satisfied: threadpoolctl>=2.0.0 in c:\\users\\awais\\anaconda3\\lib\\site-packages (from imbalanced-learn->imblearn) (2.2.0)\n",
      "Installing collected packages: joblib, imbalanced-learn, imblearn\n",
      "  Attempting uninstall: joblib\n",
      "    Found existing installation: joblib 1.1.0\n",
      "    Uninstalling joblib-1.1.0:\n",
      "      Successfully uninstalled joblib-1.1.0\n",
      "Successfully installed imbalanced-learn-0.10.0 imblearn-0.0 joblib-1.2.0\n",
      "Note: you may need to restart the kernel to use updated packages.\n"
     ]
    }
   ],
   "source": [
    "pip install imblearn"
   ]
  },
  {
   "cell_type": "code",
   "execution_count": 23,
   "id": "5c191c83",
   "metadata": {},
   "outputs": [],
   "source": [
    "from imblearn.under_sampling import RandomUnderSampler"
   ]
  },
  {
   "cell_type": "code",
   "execution_count": 24,
   "id": "214e2484",
   "metadata": {},
   "outputs": [
    {
     "name": "stdout",
     "output_type": "stream",
     "text": [
      "Original dataset shape: Counter({0: 8007, 1: 386})\n",
      "Resample dataset shape: Counter({0: 386, 1: 386})\n"
     ]
    }
   ],
   "source": [
    "rus=RandomUnderSampler(random_state=42)\n",
    "X_train_rus,y_train_rus=rus.fit_resample(X_train,y_train)\n",
    "print('Original dataset shape:',Counter(y_train))\n",
    "print('Resample dataset shape:',Counter(y_train_rus))"
   ]
  },
  {
   "cell_type": "markdown",
   "id": "97b4fa2f",
   "metadata": {},
   "source": [
    "# Random over-sampling with imblearn\n",
    "\n",
    "- One way to fight imbalance data is to generate new samples in the minority classes. \n",
    "- The most naive strategy is to generate new samples by randomly sampling with replacement of the currently available samples. \n",
    "- The `RandomOverSampler` offers such a scheme."
   ]
  },
  {
   "cell_type": "code",
   "execution_count": 25,
   "id": "413b6fce",
   "metadata": {},
   "outputs": [],
   "source": [
    "from imblearn.over_sampling import RandomOverSampler"
   ]
  },
  {
   "cell_type": "code",
   "execution_count": 26,
   "id": "b66e4d16",
   "metadata": {},
   "outputs": [
    {
     "name": "stdout",
     "output_type": "stream",
     "text": [
      "Original dataset shape: Counter({0: 8007, 1: 386})\n",
      "Resample dataset shape: Counter({0: 8007, 1: 8007})\n"
     ]
    }
   ],
   "source": [
    "ros=RandomOverSampler(random_state=42)\n",
    "X_train_ros,y_train_ros=ros.fit_resample(X_train,y_train)\n",
    "print('Original dataset shape:',Counter(y_train))\n",
    "print('Resample dataset shape:',Counter(y_train_ros))"
   ]
  },
  {
   "cell_type": "markdown",
   "id": "b71b6f9a",
   "metadata": {},
   "source": [
    "# Under-Sampling Tomek Links\n",
    "\n",
    "- Tomek links are pairs of very close instances but of opposite classes. Removing the instances of the majority class of each pair increases the space between the two classes, facilitating the classification process.\n",
    "\n",
    "- Tomek’s link exists if the two samples are the nearest neighbors of each other"
   ]
  },
  {
   "cell_type": "code",
   "execution_count": 27,
   "id": "e90e376b",
   "metadata": {},
   "outputs": [],
   "source": [
    "from imblearn.under_sampling import TomekLinks"
   ]
  },
  {
   "cell_type": "code",
   "execution_count": 127,
   "id": "cfeba6c7",
   "metadata": {},
   "outputs": [
    {
     "name": "stdout",
     "output_type": "stream",
     "text": [
      "Original dataset shape: Counter({0: 10000, 1: 492})\n",
      "Resample dataset shape: Counter({0: 9855, 1: 492})\n"
     ]
    }
   ],
   "source": [
    "tl=TomekLinks(sampling_strategy='majority')\n",
    "x_tl,y_tl=tl.fit_resample(X,y)\n",
    "print('Original dataset shape:',Counter(y))\n",
    "print('Resample dataset shape:',Counter(y_tl))"
   ]
  },
  {
   "cell_type": "code",
   "execution_count": 29,
   "id": "235c5d27",
   "metadata": {},
   "outputs": [
    {
     "name": "stdout",
     "output_type": "stream",
     "text": [
      "Original dataset shape: Counter({0: 8007, 1: 386})\n",
      "Resample dataset shape: Counter({0: 7882, 1: 386})\n"
     ]
    }
   ],
   "source": [
    "tl=TomekLinks(sampling_strategy='majority')\n",
    "X_train_tl,y_train_tl=tl.fit_resample(X_train,y_train)\n",
    "print('Original dataset shape:',Counter(y_train))\n",
    "print('Resample dataset shape:',Counter(y_train_tl))"
   ]
  },
  {
   "cell_type": "markdown",
   "id": "c2b47881",
   "metadata": {},
   "source": [
    "# Synthetic Minority Over-Sampleing Technique (SMOTE)\n",
    "\n",
    "- This technique generates synthetic data for the minority class.\n",
    "\n",
    "- SMOTE (Synthetic Minority Oversampling Technique) works by randomly picking a point from the minority class and computing the k-nearest neighbors for this point. The synthetic points are added between the chosen point and its neighbors.\n",
    "\n",
    "- SMOTE algorithm works in 4 simple steps:\n",
    "\n",
    "1. Choose a minority class as the input vector\n",
    "2. Find its k nearest neighbors (k_neighbors is specified as an argument in the SMOTE() function)\n",
    "3. Choose one of these neighbors and place a synthetic point anywhere on the line joining the point under consideration and its chosen neighbor\n",
    "4. Repeat the steps until data is balanced\n",
    "\n"
   ]
  },
  {
   "cell_type": "code",
   "execution_count": 30,
   "id": "ed9b410a",
   "metadata": {},
   "outputs": [
    {
     "name": "stdout",
     "output_type": "stream",
     "text": [
      "Original dataset shape: Counter({0: 8007, 1: 386})\n",
      "Resample dataset shape: Counter({0: 8007, 1: 8007})\n"
     ]
    }
   ],
   "source": [
    "from imblearn.over_sampling import SMOTE\n",
    "smote=SMOTE()\n",
    "x_train_smote,y_train_smote=smote.fit_resample(X_train,y_train)\n",
    "print('Original dataset shape:',Counter(y_train))\n",
    "print('Resample dataset shape:',Counter(y_train_smote))"
   ]
  },
  {
   "cell_type": "markdown",
   "id": "fa66faf3",
   "metadata": {},
   "source": [
    "# NearMiss\n",
    "\n",
    "- NearMiss is an under-sampling technique.  \n",
    "- Instead of resampling the Minority class, using a distance, this will make the majority class equal to the minority class."
   ]
  },
  {
   "cell_type": "code",
   "execution_count": 31,
   "id": "f7a11056",
   "metadata": {},
   "outputs": [
    {
     "name": "stdout",
     "output_type": "stream",
     "text": [
      "Original dataset shape: Counter({0: 8007, 1: 386})\n",
      "Resample dataset shape: Counter({0: 386, 1: 386})\n"
     ]
    }
   ],
   "source": [
    "from imblearn.under_sampling import NearMiss\n",
    "nm=NearMiss()\n",
    "X_train_nm,y_train_nm=nm.fit_resample(X_train,y_train)\n",
    "print('Original dataset shape:',Counter(y_train))\n",
    "print('Resample dataset shape:',Counter(y_train_nm))"
   ]
  },
  {
   "cell_type": "markdown",
   "id": "b1d3d462",
   "metadata": {},
   "source": [
    "# Change the Performance Metric\n",
    "\n",
    "Accuracy is not the best metric to use when evaluating imbalanced datasets as it can be misleading.\n",
    "\n",
    "Metrics that can provide better insight are:\n",
    "\n",
    "- **Confusion Matrix**: a table showing correct predictions and types of incorrect predictions.\n",
    "- **Precision**: the number of true positives divided by all positive predictions. Precision is also called Positive Predictive Value. It is a measure of a classifier’s exactness. Low precision indicates a high number of false positives.\n",
    "- **Recall**: the number of true positives divided by the number of positive values in the test data. The recall is also called Sensitivity or the True Positive Rate. It is a measure of a classifier’s completeness. Low recall indicates a high number of false negatives.\n",
    "- **F1 Score**: the weighted average of precision and recall.\n",
    "- **Area Under ROC Curve (AUROC)**: AUROC represents the likelihood of your model distinguishing observations from two classes."
   ]
  },
  {
   "cell_type": "code",
   "execution_count": 42,
   "id": "0a1fbaf5",
   "metadata": {},
   "outputs": [],
   "source": [
    "X_trian,X_test,y_train,y_test=train_test_split(X,y,test_size=0.2,random_state=42)"
   ]
  },
  {
   "cell_type": "code",
   "execution_count": 45,
   "id": "9d4cc76b",
   "metadata": {},
   "outputs": [
    {
     "name": "stdout",
     "output_type": "stream",
     "text": [
      "[20:17:51] WARNING: C:\\Windows\\Temp\\abs_557yfx631l\\croots\\recipe\\xgboost-split_1659548953302\\work\\src\\learner.cc:1115: Starting in XGBoost 1.3.0, the default evaluation metric used with the objective 'binary:logistic' was changed from 'error' to 'logloss'. Explicitly set eval_metric if you'd like to restore the old behavior.\n"
     ]
    }
   ],
   "source": [
    "model = XGBClassifier()\n",
    "model.fit(X_train, y_train)\n",
    "xgb_y_predict = model.predict(X_test)"
   ]
  },
  {
   "cell_type": "markdown",
   "id": "b056215d",
   "metadata": {},
   "source": [
    "**Model Performance**"
   ]
  },
  {
   "cell_type": "code",
   "execution_count": null,
   "id": "cbbd7634",
   "metadata": {},
   "outputs": [],
   "source": [
    "print('Roc_Auc score:',roc_auc_score(y_test, xgb_y_predict))\n",
    "print('Accuracy score:',accuracy_score(y_test, xgb_y_predict))\n",
    "print('F1 score:',f1_score(y_test, xgb_y_predict))"
   ]
  },
  {
   "cell_type": "markdown",
   "id": "68be70c0",
   "metadata": {},
   "source": [
    "# Penalize Algorithm (Cost-Sensitive Training)\n",
    "\n",
    "The next tactic is to use penalized learning algorithms that increase the cost of classification mistakes on the minority class.\n",
    "\n",
    "A popular algorithm for this technique is Penalized-SVM.\n",
    "\n",
    "During training, we can use the argument class_weight=’balanced’ to penalize mistakes on the minority class by an amount proportional to how under-represented it is.\n",
    "\n",
    "We also want to include the argument probability=True if we want to enable probability estimates for SVM algorithms.\n",
    "\n",
    "Let’s train a model using Penalized-SVM on the original imbalanced dataset:"
   ]
  },
  {
   "cell_type": "code",
   "execution_count": null,
   "id": "1972005a",
   "metadata": {},
   "outputs": [],
   "source": [
    "from sklearn.svm import SVC\n",
    "model=SVC(class_weight='balanced',probability=True)\n",
    "model.fit(X_train,y_train)"
   ]
  },
  {
   "cell_type": "code",
   "execution_count": null,
   "id": "baba017e",
   "metadata": {},
   "outputs": [],
   "source": [
    "y_pred=model.predict(X_test)"
   ]
  },
  {
   "cell_type": "markdown",
   "id": "27915211",
   "metadata": {},
   "source": [
    "**Model Performance**"
   ]
  },
  {
   "cell_type": "code",
   "execution_count": null,
   "id": "50772fe5",
   "metadata": {},
   "outputs": [],
   "source": [
    "print('Roc_Auc score:',roc_auc_score(y_test, y_pred))\n",
    "print('Accuracy score:',accuracy_score(y_test, y_pred))\n",
    "print('F1 score:',f1_score(y_test, y_pred))"
   ]
  },
  {
   "cell_type": "markdown",
   "id": "0f515145",
   "metadata": {},
   "source": [
    "# Change the Algorithm\n",
    "\n",
    "\n",
    "While in every machine learning problem, it’s a good rule of thumb to try a variety of algorithms, it can be especially beneficial with imbalanced datasets.\n",
    "\n",
    "Decision trees frequently perform well on imbalanced data. In modern machine learning, tree ensembles (Random Forests, Gradient Boosted Trees, etc.) almost always outperform singular decision trees, so we’ll jump right into those:\n",
    "\n",
    "Tree base algorithm work by learning a hierarchy of if/else questions. This can force both classes to be addressed."
   ]
  },
  {
   "cell_type": "markdown",
   "id": "7a5833bb",
   "metadata": {},
   "source": [
    "**Tree Based Algorithm**"
   ]
  },
  {
   "cell_type": "code",
   "execution_count": null,
   "id": "44a2dd1c",
   "metadata": {},
   "outputs": [],
   "source": [
    "from sklearn.ensemble import RandomForestClassifier\n",
    "rfc=RandomForestClassifier()\n",
    "rfc.fit(X_train,y_train)"
   ]
  },
  {
   "cell_type": "code",
   "execution_count": null,
   "id": "8be2dc0b",
   "metadata": {},
   "outputs": [],
   "source": [
    "y_pred=rfc.predict(X_test)"
   ]
  },
  {
   "cell_type": "markdown",
   "id": "15addb4e",
   "metadata": {},
   "source": [
    "**Model Performance**"
   ]
  },
  {
   "cell_type": "code",
   "execution_count": null,
   "id": "8cc31576",
   "metadata": {},
   "outputs": [],
   "source": [
    "print('Roc_Auc score:',roc_auc_score(y_test, y_pred))\n",
    "print('Accuracy score:',accuracy_score(y_test, y_pred))\n",
    "print('F1 score:',f1_score(y_test, y_pred))"
   ]
  },
  {
   "cell_type": "markdown",
   "id": "540b2423",
   "metadata": {},
   "source": [
    "# Conclusion:\n",
    "- Thus all the techniques, to handle imbalanced data, along with their implementation are covered. \n",
    "- After analyzing all the outputs we can say that oversampling tends to work better in handling the imbalanced data. \n",
    "- However, it is always recommended to use both, Undersampling and Oversampling to balance the skewness of the imbalanced data.\n",
    "\n",
    "1. Imbalanced data affects the performance of the classification model.\n",
    "2. Thus to handle the imbalanced data, Sampling techniques are used.\n",
    "3. There are two types of sampling techniques available: Undersampling and Oversampling.\n",
    "4. Undersampling selects the instances from the majority class to keep and delete.\n",
    "5. Oversampling generates the new synthesis examples from the minority class using neighbors and density distribution criteria.\n",
    "6. It is recommended to use both techniques altogether to get better results for the model performance.\n"
   ]
  }
 ],
 "metadata": {
  "kernelspec": {
   "display_name": "Python 3 (ipykernel)",
   "language": "python",
   "name": "python3"
  },
  "language_info": {
   "codemirror_mode": {
    "name": "ipython",
    "version": 3
   },
   "file_extension": ".py",
   "mimetype": "text/x-python",
   "name": "python",
   "nbconvert_exporter": "python",
   "pygments_lexer": "ipython3",
   "version": "3.9.12"
  }
 },
 "nbformat": 4,
 "nbformat_minor": 5
}
